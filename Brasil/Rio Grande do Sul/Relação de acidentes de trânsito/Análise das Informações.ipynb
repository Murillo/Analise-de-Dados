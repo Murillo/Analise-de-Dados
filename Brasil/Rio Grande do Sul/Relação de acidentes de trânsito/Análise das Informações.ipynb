{
 "cells": [
  {
   "cell_type": "markdown",
   "metadata": {
    "collapsed": true
   },
   "source": [
    "## Análise de Dados sobre crimes de transitos\n",
    "#### Relação de acidentes de trânsito ocorridos no Rio Grande do Sul (RS), Brasil.\n",
    "\n",
    "#### Carregar bibliotecas utilizadas na análise"
   ]
  },
  {
   "cell_type": "code",
   "execution_count": 1,
   "metadata": {
    "collapsed": false
   },
   "outputs": [
    {
     "name": "stdout",
     "output_type": "stream",
     "text": [
      "Populating the interactive namespace from numpy and matplotlib\n"
     ]
    }
   ],
   "source": [
    "%pylab inline\n",
    "import dateutil.parser as parser\n",
    "import matplotlib.pyplot as plt\n",
    "import numpy as np\n",
    "import pandas as pd\n",
    "\n",
    "import warnings\n",
    "warnings.filterwarnings('ignore')"
   ]
  },
  {
   "cell_type": "markdown",
   "metadata": {},
   "source": [
    "#### Criar determinadas funções para obter informações nos dados analisados"
   ]
  },
  {
   "cell_type": "code",
   "execution_count": 2,
   "metadata": {
    "collapsed": true
   },
   "outputs": [],
   "source": [
    "def getYear(date):\n",
    "    return parser.parse(date).year\n",
    "\n",
    "def getMonth(date):\n",
    "    return parser.parse(date).month\n",
    "\n",
    "def getDay(date):\n",
    "    return parser.parse(date).day\n",
    "\n",
    "def getHour(time):\n",
    "    return time.split(':')[0]\n",
    "\n",
    "def getMinute(time):\n",
    "    return time.split(':')[1]"
   ]
  },
  {
   "cell_type": "markdown",
   "metadata": {},
   "source": [
    "#### Carregar dataset e exibir as primeiras informações contidas nela"
   ]
  },
  {
   "cell_type": "code",
   "execution_count": 3,
   "metadata": {
    "collapsed": false,
    "scrolled": true
   },
   "outputs": [
    {
     "data": {
      "text/html": [
       "<div>\n",
       "<table border=\"1\" class=\"dataframe\">\n",
       "  <thead>\n",
       "    <tr style=\"text-align: right;\">\n",
       "      <th></th>\n",
       "      <th>Data</th>\n",
       "      <th>Hora</th>\n",
       "      <th>Municipio</th>\n",
       "      <th>Nro da Ocorrencia</th>\n",
       "      <th>Tipo de Via</th>\n",
       "      <th>Tipo Logradouro</th>\n",
       "      <th>Logradouro</th>\n",
       "      <th>KM</th>\n",
       "      <th>Natureza Ocorrencia</th>\n",
       "      <th>Tipo Ocorrencia</th>\n",
       "      <th>Historico</th>\n",
       "      <th>Teor Alcoolico</th>\n",
       "      <th>Falecimento Posterior</th>\n",
       "      <th>Ocorrencia Falecimento</th>\n",
       "      <th>Motorista Embriagado</th>\n",
       "      <th>Pedestre Embriagado</th>\n",
       "      <th>Veiculo Fugou</th>\n",
       "      <th>Motorista sem CNH</th>\n",
       "    </tr>\n",
       "  </thead>\n",
       "  <tbody>\n",
       "    <tr>\n",
       "      <th>0</th>\n",
       "      <td>14/06/2011</td>\n",
       "      <td>17:55</td>\n",
       "      <td>Sapiranga</td>\n",
       "      <td>5116</td>\n",
       "      <td>Municipal</td>\n",
       "      <td>Rua</td>\n",
       "      <td>KRAEMER ECK</td>\n",
       "      <td>2000</td>\n",
       "      <td>Colisão</td>\n",
       "      <td>Homicídio De Trânsito</td>\n",
       "      <td>NaN</td>\n",
       "      <td>NaN</td>\n",
       "      <td>NaN</td>\n",
       "      <td>NaN</td>\n",
       "      <td>NaN</td>\n",
       "      <td>NaN</td>\n",
       "      <td>NaN</td>\n",
       "      <td>NaN</td>\n",
       "    </tr>\n",
       "    <tr>\n",
       "      <th>1</th>\n",
       "      <td>06/11/2011</td>\n",
       "      <td>00:30</td>\n",
       "      <td>Osório</td>\n",
       "      <td>5116</td>\n",
       "      <td>Estadual</td>\n",
       "      <td>Rodovia</td>\n",
       "      <td>RS 101</td>\n",
       "      <td>8</td>\n",
       "      <td>Atropelamento</td>\n",
       "      <td>Homicídio De Trânsito</td>\n",
       "      <td>NaN</td>\n",
       "      <td>NaN</td>\n",
       "      <td>06/11/2011</td>\n",
       "      <td>NaN</td>\n",
       "      <td>NÃO INF.</td>\n",
       "      <td>N</td>\n",
       "      <td>N</td>\n",
       "      <td>NÃO INF.</td>\n",
       "    </tr>\n",
       "    <tr>\n",
       "      <th>2</th>\n",
       "      <td>30/07/2011</td>\n",
       "      <td>19:15</td>\n",
       "      <td>Barros Cassal</td>\n",
       "      <td>512</td>\n",
       "      <td>Municipal</td>\n",
       "      <td>Avenida</td>\n",
       "      <td>ZEFERINO BARBOSA</td>\n",
       "      <td>NaN</td>\n",
       "      <td>Colisão</td>\n",
       "      <td>Homicídio De Trânsito</td>\n",
       "      <td>NaN</td>\n",
       "      <td>NaN</td>\n",
       "      <td>30/07/2011</td>\n",
       "      <td>NaN</td>\n",
       "      <td>NaN</td>\n",
       "      <td>NaN</td>\n",
       "      <td>NaN</td>\n",
       "      <td>NaN</td>\n",
       "    </tr>\n",
       "    <tr>\n",
       "      <th>3</th>\n",
       "      <td>18/09/2011</td>\n",
       "      <td>19:40</td>\n",
       "      <td>Riozinho</td>\n",
       "      <td>5125</td>\n",
       "      <td>Municipal</td>\n",
       "      <td>Avenida</td>\n",
       "      <td>GUERINO PANDOLFO</td>\n",
       "      <td>233</td>\n",
       "      <td>Colisão</td>\n",
       "      <td>Homicídio De Trânsito</td>\n",
       "      <td>NaN</td>\n",
       "      <td>NaN</td>\n",
       "      <td>NaN</td>\n",
       "      <td>NaN</td>\n",
       "      <td>NaN</td>\n",
       "      <td>NaN</td>\n",
       "      <td>NaN</td>\n",
       "      <td>NaN</td>\n",
       "    </tr>\n",
       "    <tr>\n",
       "      <th>4</th>\n",
       "      <td>28/05/2011</td>\n",
       "      <td>11:20</td>\n",
       "      <td>Casca</td>\n",
       "      <td>513</td>\n",
       "      <td>Estadual</td>\n",
       "      <td>Rodovia</td>\n",
       "      <td>RS 324</td>\n",
       "      <td>57</td>\n",
       "      <td>Colisão</td>\n",
       "      <td>Homicídio De Trânsito</td>\n",
       "      <td>NaN</td>\n",
       "      <td>NaN</td>\n",
       "      <td>28/05/2011</td>\n",
       "      <td>NaN</td>\n",
       "      <td>NaN</td>\n",
       "      <td>NaN</td>\n",
       "      <td>NaN</td>\n",
       "      <td>NaN</td>\n",
       "    </tr>\n",
       "  </tbody>\n",
       "</table>\n",
       "</div>"
      ],
      "text/plain": [
       "         Data   Hora      Municipio  Nro da Ocorrencia  Tipo de Via  \\\n",
       "0  14/06/2011  17:55      Sapiranga               5116    Municipal   \n",
       "1  06/11/2011  00:30         Osório               5116     Estadual   \n",
       "2  30/07/2011  19:15  Barros Cassal                512    Municipal   \n",
       "3  18/09/2011  19:40       Riozinho               5125    Municipal   \n",
       "4  28/05/2011  11:20          Casca                513     Estadual   \n",
       "\n",
       "   Tipo Logradouro        Logradouro    KM  Natureza Ocorrencia  \\\n",
       "0              Rua       KRAEMER ECK  2000              Colisão   \n",
       "1          Rodovia            RS 101     8        Atropelamento   \n",
       "2          Avenida  ZEFERINO BARBOSA   NaN              Colisão   \n",
       "3          Avenida  GUERINO PANDOLFO   233              Colisão   \n",
       "4          Rodovia            RS 324    57              Colisão   \n",
       "\n",
       "         Tipo Ocorrencia   Historico  Teor Alcoolico  Falecimento Posterior  \\\n",
       "0  Homicídio De Trânsito         NaN             NaN                    NaN   \n",
       "1  Homicídio De Trânsito         NaN             NaN             06/11/2011   \n",
       "2  Homicídio De Trânsito         NaN             NaN             30/07/2011   \n",
       "3  Homicídio De Trânsito         NaN             NaN                    NaN   \n",
       "4  Homicídio De Trânsito         NaN             NaN             28/05/2011   \n",
       "\n",
       "   Ocorrencia Falecimento  Motorista Embriagado  Pedestre Embriagado  \\\n",
       "0                     NaN                   NaN                  NaN   \n",
       "1                     NaN              NÃO INF.                    N   \n",
       "2                     NaN                   NaN                  NaN   \n",
       "3                     NaN                   NaN                  NaN   \n",
       "4                     NaN                   NaN                  NaN   \n",
       "\n",
       "   Veiculo Fugou  Motorista sem CNH  \n",
       "0            NaN                NaN  \n",
       "1              N           NÃO INF.  \n",
       "2            NaN                NaN  \n",
       "3            NaN                NaN  \n",
       "4            NaN                NaN  "
      ]
     },
     "execution_count": 3,
     "metadata": {},
     "output_type": "execute_result"
    }
   ],
   "source": [
    "dataset = pd.read_csv(\"dataset/crimestransito.csv\")\n",
    "dataset.head()"
   ]
  },
  {
   "cell_type": "code",
   "execution_count": 4,
   "metadata": {
    "collapsed": false
   },
   "outputs": [
    {
     "name": "stdout",
     "output_type": "stream",
     "text": [
      "Total de linhas no dataset: 16016\n",
      "Total de colunas no dataset: 18\n"
     ]
    }
   ],
   "source": [
    "print (\"Total de linhas no dataset: \" + str(dataset.shape[0]))\n",
    "print (\"Total de colunas no dataset: \" + str(dataset.shape[1]))"
   ]
  },
  {
   "cell_type": "markdown",
   "metadata": {},
   "source": [
    "#### Na próxima etapa, será verificada a quantidade de dados vazios em cada coluna"
   ]
  },
  {
   "cell_type": "code",
   "execution_count": 5,
   "metadata": {
    "collapsed": false
   },
   "outputs": [
    {
     "name": "stdout",
     "output_type": "stream",
     "text": [
      "Número de dados vázios na coluna Data: 0\n",
      "Número de dados vázios na coluna  Hora: 0\n",
      "Número de dados vázios na coluna  Municipio: 0\n",
      "Número de dados vázios na coluna  Nro da Ocorrencia: 0\n",
      "Número de dados vázios na coluna  Tipo de Via: 58\n",
      "Número de dados vázios na coluna  Tipo Logradouro: 127\n",
      "Número de dados vázios na coluna  Logradouro: 150\n",
      "Número de dados vázios na coluna  KM: 3473\n",
      "Número de dados vázios na coluna  Natureza Ocorrencia: 0\n",
      "Número de dados vázios na coluna  Tipo Ocorrencia: 1\n",
      "Número de dados vázios na coluna  Historico: 16016\n",
      "Número de dados vázios na coluna  Teor Alcoolico: 14906\n",
      "Número de dados vázios na coluna  Falecimento Posterior: 7958\n",
      "Número de dados vázios na coluna  Ocorrencia Falecimento: 11510\n",
      "Número de dados vázios na coluna  Motorista Embriagado: 3183\n",
      "Número de dados vázios na coluna  Pedestre Embriagado: 3184\n",
      "Número de dados vázios na coluna  Veiculo Fugou: 3184\n",
      "Número de dados vázios na coluna  Motorista sem CNH: 3170\n"
     ]
    }
   ],
   "source": [
    "for col in list(dataset.columns.values):\n",
    "    print (\"Número de dados vázios na coluna \" + col + \": \" + str(dataset[col].isnull().values.sum()))"
   ]
  },
  {
   "cell_type": "markdown",
   "metadata": {},
   "source": [
    "#### Como a coluna Histórico não tem nenhuma informação, não há necessidade dela no dataset. Então, ela será removida"
   ]
  },
  {
   "cell_type": "code",
   "execution_count": 6,
   "metadata": {
    "collapsed": false
   },
   "outputs": [
    {
     "name": "stdout",
     "output_type": "stream",
     "text": [
      "Total de linhas no dataset: 16016\n",
      "Total de colunas no dataset: 17\n"
     ]
    }
   ],
   "source": [
    "del dataset[\" Historico\"]\n",
    "print (\"Total de linhas no dataset: \" + str(dataset.shape[0]))\n",
    "print (\"Total de colunas no dataset: \" + str(dataset.shape[1]))"
   ]
  },
  {
   "cell_type": "markdown",
   "metadata": {},
   "source": [
    "#### Formatar a data e tempo da ocorrência para um formato de fácil manipulação, seperando as informações dia, mês, ano, hora e minuto de uma única coluna e os colocando em recipientes separados. "
   ]
  },
  {
   "cell_type": "code",
   "execution_count": 7,
   "metadata": {
    "collapsed": false
   },
   "outputs": [
    {
     "data": {
      "text/html": [
       "<div>\n",
       "<table border=\"1\" class=\"dataframe\">\n",
       "  <thead>\n",
       "    <tr style=\"text-align: right;\">\n",
       "      <th></th>\n",
       "      <th>Municipio</th>\n",
       "      <th>Nro da Ocorrencia</th>\n",
       "      <th>Tipo de Via</th>\n",
       "      <th>Tipo Logradouro</th>\n",
       "      <th>Logradouro</th>\n",
       "      <th>KM</th>\n",
       "      <th>Natureza Ocorrencia</th>\n",
       "      <th>Tipo Ocorrencia</th>\n",
       "      <th>Teor Alcoolico</th>\n",
       "      <th>Falecimento Posterior</th>\n",
       "      <th>Ocorrencia Falecimento</th>\n",
       "      <th>Motorista Embriagado</th>\n",
       "      <th>Pedestre Embriagado</th>\n",
       "      <th>Veiculo Fugou</th>\n",
       "      <th>Motorista sem CNH</th>\n",
       "      <th>Dia</th>\n",
       "      <th>Mes</th>\n",
       "      <th>Ano</th>\n",
       "      <th>Hora</th>\n",
       "      <th>Minuto</th>\n",
       "    </tr>\n",
       "  </thead>\n",
       "  <tbody>\n",
       "    <tr>\n",
       "      <th>0</th>\n",
       "      <td>Sapiranga</td>\n",
       "      <td>5116</td>\n",
       "      <td>Municipal</td>\n",
       "      <td>Rua</td>\n",
       "      <td>KRAEMER ECK</td>\n",
       "      <td>2000</td>\n",
       "      <td>Colisão</td>\n",
       "      <td>Homicídio De Trânsito</td>\n",
       "      <td>NaN</td>\n",
       "      <td>NaN</td>\n",
       "      <td>NaN</td>\n",
       "      <td>NaN</td>\n",
       "      <td>NaN</td>\n",
       "      <td>NaN</td>\n",
       "      <td>NaN</td>\n",
       "      <td>14</td>\n",
       "      <td>6</td>\n",
       "      <td>2011</td>\n",
       "      <td>17</td>\n",
       "      <td>55</td>\n",
       "    </tr>\n",
       "    <tr>\n",
       "      <th>1</th>\n",
       "      <td>Osório</td>\n",
       "      <td>5116</td>\n",
       "      <td>Estadual</td>\n",
       "      <td>Rodovia</td>\n",
       "      <td>RS 101</td>\n",
       "      <td>8</td>\n",
       "      <td>Atropelamento</td>\n",
       "      <td>Homicídio De Trânsito</td>\n",
       "      <td>NaN</td>\n",
       "      <td>06/11/2011</td>\n",
       "      <td>NaN</td>\n",
       "      <td>NÃO INF.</td>\n",
       "      <td>N</td>\n",
       "      <td>N</td>\n",
       "      <td>NÃO INF.</td>\n",
       "      <td>11</td>\n",
       "      <td>6</td>\n",
       "      <td>2011</td>\n",
       "      <td>00</td>\n",
       "      <td>30</td>\n",
       "    </tr>\n",
       "    <tr>\n",
       "      <th>2</th>\n",
       "      <td>Barros Cassal</td>\n",
       "      <td>512</td>\n",
       "      <td>Municipal</td>\n",
       "      <td>Avenida</td>\n",
       "      <td>ZEFERINO BARBOSA</td>\n",
       "      <td>NaN</td>\n",
       "      <td>Colisão</td>\n",
       "      <td>Homicídio De Trânsito</td>\n",
       "      <td>NaN</td>\n",
       "      <td>30/07/2011</td>\n",
       "      <td>NaN</td>\n",
       "      <td>NaN</td>\n",
       "      <td>NaN</td>\n",
       "      <td>NaN</td>\n",
       "      <td>NaN</td>\n",
       "      <td>30</td>\n",
       "      <td>7</td>\n",
       "      <td>2011</td>\n",
       "      <td>19</td>\n",
       "      <td>15</td>\n",
       "    </tr>\n",
       "    <tr>\n",
       "      <th>3</th>\n",
       "      <td>Riozinho</td>\n",
       "      <td>5125</td>\n",
       "      <td>Municipal</td>\n",
       "      <td>Avenida</td>\n",
       "      <td>GUERINO PANDOLFO</td>\n",
       "      <td>233</td>\n",
       "      <td>Colisão</td>\n",
       "      <td>Homicídio De Trânsito</td>\n",
       "      <td>NaN</td>\n",
       "      <td>NaN</td>\n",
       "      <td>NaN</td>\n",
       "      <td>NaN</td>\n",
       "      <td>NaN</td>\n",
       "      <td>NaN</td>\n",
       "      <td>NaN</td>\n",
       "      <td>18</td>\n",
       "      <td>9</td>\n",
       "      <td>2011</td>\n",
       "      <td>19</td>\n",
       "      <td>40</td>\n",
       "    </tr>\n",
       "    <tr>\n",
       "      <th>4</th>\n",
       "      <td>Casca</td>\n",
       "      <td>513</td>\n",
       "      <td>Estadual</td>\n",
       "      <td>Rodovia</td>\n",
       "      <td>RS 324</td>\n",
       "      <td>57</td>\n",
       "      <td>Colisão</td>\n",
       "      <td>Homicídio De Trânsito</td>\n",
       "      <td>NaN</td>\n",
       "      <td>28/05/2011</td>\n",
       "      <td>NaN</td>\n",
       "      <td>NaN</td>\n",
       "      <td>NaN</td>\n",
       "      <td>NaN</td>\n",
       "      <td>NaN</td>\n",
       "      <td>28</td>\n",
       "      <td>5</td>\n",
       "      <td>2011</td>\n",
       "      <td>11</td>\n",
       "      <td>20</td>\n",
       "    </tr>\n",
       "  </tbody>\n",
       "</table>\n",
       "</div>"
      ],
      "text/plain": [
       "       Municipio  Nro da Ocorrencia  Tipo de Via  Tipo Logradouro  \\\n",
       "0      Sapiranga               5116    Municipal              Rua   \n",
       "1         Osório               5116     Estadual          Rodovia   \n",
       "2  Barros Cassal                512    Municipal          Avenida   \n",
       "3       Riozinho               5125    Municipal          Avenida   \n",
       "4          Casca                513     Estadual          Rodovia   \n",
       "\n",
       "         Logradouro    KM  Natureza Ocorrencia        Tipo Ocorrencia  \\\n",
       "0       KRAEMER ECK  2000              Colisão  Homicídio De Trânsito   \n",
       "1            RS 101     8        Atropelamento  Homicídio De Trânsito   \n",
       "2  ZEFERINO BARBOSA   NaN              Colisão  Homicídio De Trânsito   \n",
       "3  GUERINO PANDOLFO   233              Colisão  Homicídio De Trânsito   \n",
       "4            RS 324    57              Colisão  Homicídio De Trânsito   \n",
       "\n",
       "   Teor Alcoolico  Falecimento Posterior  Ocorrencia Falecimento  \\\n",
       "0             NaN                    NaN                     NaN   \n",
       "1             NaN             06/11/2011                     NaN   \n",
       "2             NaN             30/07/2011                     NaN   \n",
       "3             NaN                    NaN                     NaN   \n",
       "4             NaN             28/05/2011                     NaN   \n",
       "\n",
       "   Motorista Embriagado  Pedestre Embriagado  Veiculo Fugou  \\\n",
       "0                   NaN                  NaN            NaN   \n",
       "1              NÃO INF.                    N              N   \n",
       "2                   NaN                  NaN            NaN   \n",
       "3                   NaN                  NaN            NaN   \n",
       "4                   NaN                  NaN            NaN   \n",
       "\n",
       "   Motorista sem CNH  Dia  Mes   Ano Hora Minuto  \n",
       "0                NaN   14    6  2011   17     55  \n",
       "1           NÃO INF.   11    6  2011   00     30  \n",
       "2                NaN   30    7  2011   19     15  \n",
       "3                NaN   18    9  2011   19     40  \n",
       "4                NaN   28    5  2011   11     20  "
      ]
     },
     "execution_count": 7,
     "metadata": {},
     "output_type": "execute_result"
    }
   ],
   "source": [
    "dataset[\"Dia\"] = dataset[\"Data\"].apply(getDay)\n",
    "dataset[\"Mes\"] = dataset[\"Data\"].apply(getMonth)\n",
    "dataset[\"Ano\"] = dataset[\"Data\"].apply(getYear)\n",
    "dataset[\"Hora\"] = dataset[\" Hora\"].apply(getHour)\n",
    "dataset[\"Minuto\"] = dataset[\" Hora\"].apply(getMinute)\n",
    "del dataset[\"Data\"]\n",
    "del dataset[\" Hora\"]\n",
    "dataset.head()"
   ]
  },
  {
   "cell_type": "markdown",
   "metadata": {},
   "source": [
    "### Quais os municipios do RS com maior número de ocorrências no trânsito nos últimos 5 anos?"
   ]
  },
  {
   "cell_type": "code",
   "execution_count": 8,
   "metadata": {
    "collapsed": false
   },
   "outputs": [
    {
     "data": {
      "text/plain": [
       " Municipio\n",
       "Porto Alegre     676\n",
       "Pelotas          272\n",
       "Caxias do Sul    248\n",
       "Viamão           200\n",
       "Gravataí         199\n",
       "Passo Fundo      182\n",
       "Santa Maria      182\n",
       "Rio Grande       181\n",
       "Canoas           156\n",
       "Novo Hamburgo    143\n",
       "dtype: int64"
      ]
     },
     "execution_count": 8,
     "metadata": {},
     "output_type": "execute_result"
    }
   ],
   "source": [
    "top_municipios = dataset[dataset['Ano'] > 2010][dataset['Ano'] <= 2015].groupby([\" Municipio\"]).size().sort_values(ascending=0)\n",
    "top_municipios[0:10]"
   ]
  },
  {
   "cell_type": "code",
   "execution_count": 9,
   "metadata": {
    "collapsed": false
   },
   "outputs": [
    {
     "data": {
      "text/plain": [
       "<matplotlib.axes._subplots.AxesSubplot at 0x7ff4642efc88>"
      ]
     },
     "execution_count": 9,
     "metadata": {},
     "output_type": "execute_result"
    },
    {
     "data": {
      "image/png": "[encoded data removed]",
      "text/plain": [
       "<matplotlib.figure.Figure at 0x7ff463c175f8>"
      ]
     },
     "metadata": {},
     "output_type": "display_data"
    }
   ],
   "source": [
    "titulo = \"Os 10 municipios do Rio Grande do Sul com maior número de ocorrências no trânsito de 2010 até 2015\"\n",
    "top_municipios[0:10].plot(kind='bar', figsize=[14, 7],width=0.6,alpha=0.6,color='g',grid=False,title=titulo) "
   ]
  },
  {
   "cell_type": "markdown",
   "metadata": {},
   "source": [
    "### Quais os Tipos de Ocorrências que mais ocorreram no RS em 2015?"
   ]
  },
  {
   "cell_type": "code",
   "execution_count": 10,
   "metadata": {
    "collapsed": false
   },
   "outputs": [
    {
     "name": "stdout",
     "output_type": "stream",
     "text": [
      " Natureza Ocorrencia\n",
      "Colisão                   570\n",
      "Atropelamento             351\n",
      "Colisão Lateral           181\n",
      "Choque Com Objeto Fixo    172\n",
      "Tombamento                126\n",
      "Capotagem                  96\n",
      "Não Informado              19\n",
      "Outro                      16\n",
      "dtype: int64\n"
     ]
    }
   ],
   "source": [
    "natureza_ocorrencia_2015 = dataset[dataset['Ano'] == 2015].groupby([\" Natureza Ocorrencia\"]).size().sort_values(ascending=0)\n",
    "print(natureza_ocorrencia_2015)"
   ]
  },
  {
   "cell_type": "code",
   "execution_count": 11,
   "metadata": {
    "collapsed": false
   },
   "outputs": [
    {
     "data": {
      "text/plain": [
       "<matplotlib.axes._subplots.AxesSubplot at 0x7ff463a74470>"
      ]
     },
     "execution_count": 11,
     "metadata": {},
     "output_type": "execute_result"
    },
    {
     "data": {
      "image/png": "[encoded data removed]",
      "text/plain": [
       "<matplotlib.figure.Figure at 0x7ff463a61a58>"
      ]
     },
     "metadata": {},
     "output_type": "display_data"
    }
   ],
   "source": [
    "titulo = \"Natureza das Ocorrências em 2015\"\n",
    "natureza_ocorrencia_2015.plot(kind='bar', figsize=[14, 7],width=0.6,alpha=0.6,color='b',grid=False,title=titulo) "
   ]
  },
  {
   "cell_type": "markdown",
   "metadata": {},
   "source": [
    "### Qual a frequência das ocorrências nos últimos 5 anos?"
   ]
  },
  {
   "cell_type": "code",
   "execution_count": 12,
   "metadata": {
    "collapsed": false,
    "scrolled": true
   },
   "outputs": [
    {
     "name": "stdout",
     "output_type": "stream",
     "text": [
      "Ano    Natureza Ocorrencia  \n",
      "2011  Atropelamento             409\n",
      "      Capotagem                 112\n",
      "      Choque Com Objeto Fixo    207\n",
      "      Colisão                   734\n",
      "      Colisão Lateral           157\n",
      "      Não Informado              21\n",
      "      Outro                      44\n",
      "      Tombamento                147\n",
      "2012  Atropelamento             398\n",
      "      Capotagem                 114\n",
      "      Choque Com Objeto Fixo    201\n",
      "      Colisão                   728\n",
      "      Colisão Lateral           223\n",
      "      Não Informado              15\n",
      "      Outro                      37\n",
      "      Tombamento                138\n",
      "2013  Atropelamento             395\n",
      "      Capotagem                 110\n",
      "      Choque Com Objeto Fixo    179\n",
      "      Colisão                   702\n",
      "      Colisão Lateral           204\n",
      "      Não Informado              29\n",
      "      Outro                      29\n",
      "      Tombamento                123\n",
      "2014  Atropelamento             404\n",
      "      Capotagem                 106\n",
      "      Choque Com Objeto Fixo    188\n",
      "      Colisão                   672\n",
      "      Colisão Lateral           226\n",
      "      Não Informado              24\n",
      "      Outro                      39\n",
      "      Tombamento                166\n",
      "2015  Atropelamento             351\n",
      "      Capotagem                  96\n",
      "      Choque Com Objeto Fixo    172\n",
      "      Colisão                   570\n",
      "      Colisão Lateral           181\n",
      "      Não Informado              19\n",
      "      Outro                      16\n",
      "      Tombamento                126\n",
      "dtype: int64\n"
     ]
    }
   ],
   "source": [
    "ocorrencias = dataset[dataset['Ano'] > 2010][dataset['Ano'] <= 2015].groupby([\"Ano\", \" Natureza Ocorrencia\"]).size()\n",
    "print (ocorrencias)"
   ]
  },
  {
   "cell_type": "code",
   "execution_count": 13,
   "metadata": {
    "collapsed": false
   },
   "outputs": [
    {
     "data": {
      "text/plain": [
       "<matplotlib.legend.Legend at 0x7ff4637a8ac8>"
      ]
     },
     "execution_count": 13,
     "metadata": {},
     "output_type": "execute_result"
    },
    {
     "data": {
      "image/png": "[encoded data removed]",
      "text/plain": [
       "<matplotlib.figure.Figure at 0x7ff4637a8278>"
      ]
     },
     "metadata": {},
     "output_type": "display_data"
    }
   ],
   "source": [
    "title = \"A relação entre ocorrências nos últimos anos\"\n",
    "\n",
    "ocorrencias.unstack().plot(kind='bar', figsize=[14, 7],width=0.6,alpha=0.6,grid=False,title=title).legend(bbox_to_anchor=(1.2, 0.9))"
   ]
  },
  {
   "cell_type": "markdown",
   "metadata": {},
   "source": [
    "#### É possível verificar no gráfico acima, que anualmente a colisão é a ocorrência com mair quantidade de registros, seguido de atropelamento. Também, é possível verificar que no decorrer dos anos, ambos estão diminuindo."
   ]
  },
  {
   "cell_type": "markdown",
   "metadata": {},
   "source": [
    "### Quais os Tipos de Vias que mais tiveram colisão nos últimos anos 5 anos?"
   ]
  },
  {
   "cell_type": "code",
   "execution_count": 14,
   "metadata": {
    "collapsed": false
   },
   "outputs": [
    {
     "name": "stdout",
     "output_type": "stream",
     "text": [
      " Tipo de Via\n",
      "Estadual     1262\n",
      "Federal      1145\n",
      "Municipal     999\n",
      "dtype: int64\n"
     ]
    }
   ],
   "source": [
    "ocorrencia_tipo_vias = dataset[dataset['Ano'] > 2010][dataset['Ano'] <= 2015][dataset[' Natureza Ocorrencia'] == 'Colisão'].groupby([' Tipo de Via']).size().sort_values(ascending=0)\n",
    "print (ocorrencia_tipo_vias)"
   ]
  },
  {
   "cell_type": "code",
   "execution_count": 16,
   "metadata": {
    "collapsed": false
   },
   "outputs": [
    {
     "data": {
      "text/plain": [
       "<matplotlib.axes._subplots.AxesSubplot at 0x7ff46369d240>"
      ]
     },
     "execution_count": 16,
     "metadata": {},
     "output_type": "execute_result"
    },
    {
     "data": {
      "image/png": "[encoded data removed]",
      "text/plain": [
       "<matplotlib.figure.Figure at 0x7ff463680160>"
      ]
     },
     "metadata": {},
     "output_type": "display_data"
    }
   ],
   "source": [
    "title = \"Os tipos de vias que mais tiveram colisões nos últimos anos no RS\"\n",
    "ocorrencia_tipo_vias.plot(kind='bar',figsize=[14, 7],width=0.6,alpha=0.6,color='y',grid=False,title=title)"
   ]
  }
 ],
 "metadata": {
  "anaconda-cloud": {},
  "kernelspec": {
   "display_name": "Python [Root]",
   "language": "python",
   "name": "Python [Root]"
  },
  "language_info": {
   "codemirror_mode": {
    "name": "ipython",
    "version": 3
   },
   "file_extension": ".py",
   "mimetype": "text/x-python",
   "name": "python",
   "nbconvert_exporter": "python",
   "pygments_lexer": "ipython3",
   "version": "3.5.2"
  }
 },
 "nbformat": 4,
 "nbformat_minor": 0
}
