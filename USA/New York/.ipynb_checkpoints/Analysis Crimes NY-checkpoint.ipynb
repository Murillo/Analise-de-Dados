{
 "cells": [
  {
   "cell_type": "markdown",
   "metadata": {},
   "source": [
    "# Analysing criminal data from NY between 2014 and 2015"
   ]
  },
  {
   "cell_type": "code",
   "execution_count": 1,
   "metadata": {},
   "outputs": [
    {
     "name": "stdout",
     "output_type": "stream",
     "text": [
      "Populating the interactive namespace from numpy and matplotlib\n"
     ]
    }
   ],
   "source": [
    "%pylab inline\n",
    "import numpy\n",
    "import pandas\n",
    "import matplotlib.pyplot as plt\n",
    "import dateutil.parser as parser\n",
    "\n",
    "import warnings\n",
    "warnings.filterwarnings('ignore')"
   ]
  },
  {
   "cell_type": "markdown",
   "metadata": {},
   "source": [
    "### Creating functions"
   ]
  },
  {
   "cell_type": "code",
   "execution_count": 2,
   "metadata": {
    "collapsed": true
   },
   "outputs": [],
   "source": [
    "def getYear(date):\n",
    "    try:\n",
    "        year = date.strftime('%Y-%m-%d')\n",
    "        return parser.parse(year).year\n",
    "    except:\n",
    "        return np.nan\n",
    "    \n",
    "def getMonth(date):\n",
    "    try:\n",
    "        month = date.strftime('%Y-%m-%d')\n",
    "        return parser.parse(month).month\n",
    "    except:\n",
    "        return np.nan\n",
    "    \n",
    "def getDay(date):\n",
    "    try:\n",
    "        day = date.strftime('%Y-%m-%d')\n",
    "        return parser.parse(day).day\n",
    "    except:\n",
    "        return np.nan\n",
    "    \n",
    "def getHour(date):\n",
    "    try:\n",
    "        return int(date.strftime('%H:%m').split(':')[0])\n",
    "    except:\n",
    "        return np.nan\n",
    "    \n",
    "def getMinute(date):\n",
    "    try:\n",
    "        return int(date.strftime('%H:%m').split(':')[1])\n",
    "    except:\n",
    "        return np.nan"
   ]
  },
  {
   "cell_type": "markdown",
   "metadata": {},
   "source": [
    "### Reading data historic"
   ]
  },
  {
   "cell_type": "code",
   "execution_count": 3,
   "metadata": {},
   "outputs": [
    {
     "data": {
      "text/html": [
       "<div>\n",
       "<style>\n",
       "    .dataframe thead tr:only-child th {\n",
       "        text-align: right;\n",
       "    }\n",
       "\n",
       "    .dataframe thead th {\n",
       "        text-align: left;\n",
       "    }\n",
       "\n",
       "    .dataframe tbody tr th {\n",
       "        vertical-align: top;\n",
       "    }\n",
       "</style>\n",
       "<table border=\"1\" class=\"dataframe\">\n",
       "  <thead>\n",
       "    <tr style=\"text-align: right;\">\n",
       "      <th></th>\n",
       "      <th>CMPLNT_NUM</th>\n",
       "      <th>CMPLNT_FR_DT</th>\n",
       "      <th>CMPLNT_FR_TM</th>\n",
       "      <th>CMPLNT_TO_DT</th>\n",
       "      <th>CMPLNT_TO_TM</th>\n",
       "      <th>RPT_DT</th>\n",
       "      <th>KY_CD</th>\n",
       "      <th>OFNS_DESC</th>\n",
       "      <th>PD_CD</th>\n",
       "      <th>PD_DESC</th>\n",
       "      <th>...</th>\n",
       "      <th>ADDR_PCT_CD</th>\n",
       "      <th>LOC_OF_OCCUR_DESC</th>\n",
       "      <th>PREM_TYP_DESC</th>\n",
       "      <th>PARKS_NM</th>\n",
       "      <th>HADEVELOPT</th>\n",
       "      <th>X_COORD_CD</th>\n",
       "      <th>Y_COORD_CD</th>\n",
       "      <th>Latitude</th>\n",
       "      <th>Longitude</th>\n",
       "      <th>Lat_Lon</th>\n",
       "    </tr>\n",
       "  </thead>\n",
       "  <tbody>\n",
       "    <tr>\n",
       "      <th>0</th>\n",
       "      <td>101109527</td>\n",
       "      <td>12/31/2015</td>\n",
       "      <td>23:45:00</td>\n",
       "      <td>NaN</td>\n",
       "      <td>NaN</td>\n",
       "      <td>12/31/2015</td>\n",
       "      <td>113</td>\n",
       "      <td>FORGERY</td>\n",
       "      <td>729</td>\n",
       "      <td>FORGERY,ETC.,UNCLASSIFIED-FELO</td>\n",
       "      <td>...</td>\n",
       "      <td>44</td>\n",
       "      <td>INSIDE</td>\n",
       "      <td>BAR/NIGHT CLUB</td>\n",
       "      <td>NaN</td>\n",
       "      <td>NaN</td>\n",
       "      <td>1007314</td>\n",
       "      <td>241257</td>\n",
       "      <td>40.82884833</td>\n",
       "      <td>-73.91666114</td>\n",
       "      <td>(40.828848333, -73.916661142)</td>\n",
       "    </tr>\n",
       "    <tr>\n",
       "      <th>1</th>\n",
       "      <td>153401121</td>\n",
       "      <td>12/31/2015</td>\n",
       "      <td>23:36:00</td>\n",
       "      <td>NaN</td>\n",
       "      <td>NaN</td>\n",
       "      <td>12/31/2015</td>\n",
       "      <td>101</td>\n",
       "      <td>MURDER &amp; NON-NEGL. MANSLAUGHTER</td>\n",
       "      <td>NaN</td>\n",
       "      <td>NaN</td>\n",
       "      <td>...</td>\n",
       "      <td>103</td>\n",
       "      <td>OUTSIDE</td>\n",
       "      <td>NaN</td>\n",
       "      <td>NaN</td>\n",
       "      <td>NaN</td>\n",
       "      <td>1043991</td>\n",
       "      <td>193406</td>\n",
       "      <td>40.69733814</td>\n",
       "      <td>-73.78455674</td>\n",
       "      <td>(40.697338138, -73.784556739)</td>\n",
       "    </tr>\n",
       "    <tr>\n",
       "      <th>2</th>\n",
       "      <td>569369778</td>\n",
       "      <td>12/31/2015</td>\n",
       "      <td>23:30:00</td>\n",
       "      <td>NaN</td>\n",
       "      <td>NaN</td>\n",
       "      <td>12/31/2015</td>\n",
       "      <td>117</td>\n",
       "      <td>DANGEROUS DRUGS</td>\n",
       "      <td>503</td>\n",
       "      <td>CONTROLLED SUBSTANCE,INTENT TO</td>\n",
       "      <td>...</td>\n",
       "      <td>28</td>\n",
       "      <td>NaN</td>\n",
       "      <td>OTHER</td>\n",
       "      <td>NaN</td>\n",
       "      <td>NaN</td>\n",
       "      <td>999463</td>\n",
       "      <td>231690</td>\n",
       "      <td>40.80260661</td>\n",
       "      <td>-73.94505191</td>\n",
       "      <td>(40.802606608, -73.945051911)</td>\n",
       "    </tr>\n",
       "    <tr>\n",
       "      <th>3</th>\n",
       "      <td>968417082</td>\n",
       "      <td>12/31/2015</td>\n",
       "      <td>23:30:00</td>\n",
       "      <td>NaN</td>\n",
       "      <td>NaN</td>\n",
       "      <td>12/31/2015</td>\n",
       "      <td>344</td>\n",
       "      <td>ASSAULT 3 &amp; RELATED OFFENSES</td>\n",
       "      <td>101</td>\n",
       "      <td>ASSAULT 3</td>\n",
       "      <td>...</td>\n",
       "      <td>105</td>\n",
       "      <td>INSIDE</td>\n",
       "      <td>RESIDENCE-HOUSE</td>\n",
       "      <td>NaN</td>\n",
       "      <td>NaN</td>\n",
       "      <td>1060183</td>\n",
       "      <td>177862</td>\n",
       "      <td>40.65454944</td>\n",
       "      <td>-73.72633879</td>\n",
       "      <td>(40.654549444, -73.726338791)</td>\n",
       "    </tr>\n",
       "    <tr>\n",
       "      <th>4</th>\n",
       "      <td>641637920</td>\n",
       "      <td>12/31/2015</td>\n",
       "      <td>23:25:00</td>\n",
       "      <td>12/31/2015</td>\n",
       "      <td>23:30:00</td>\n",
       "      <td>12/31/2015</td>\n",
       "      <td>344</td>\n",
       "      <td>ASSAULT 3 &amp; RELATED OFFENSES</td>\n",
       "      <td>101</td>\n",
       "      <td>ASSAULT 3</td>\n",
       "      <td>...</td>\n",
       "      <td>13</td>\n",
       "      <td>FRONT OF</td>\n",
       "      <td>OTHER</td>\n",
       "      <td>NaN</td>\n",
       "      <td>NaN</td>\n",
       "      <td>987606</td>\n",
       "      <td>208148</td>\n",
       "      <td>40.7380024</td>\n",
       "      <td>-73.98789129</td>\n",
       "      <td>(40.7380024, -73.98789129)</td>\n",
       "    </tr>\n",
       "  </tbody>\n",
       "</table>\n",
       "<p>5 rows × 24 columns</p>\n",
       "</div>"
      ],
      "text/plain": [
       "  CMPLNT_NUM CMPLNT_FR_DT CMPLNT_FR_TM CMPLNT_TO_DT CMPLNT_TO_TM      RPT_DT  \\\n",
       "0  101109527   12/31/2015     23:45:00          NaN          NaN  12/31/2015   \n",
       "1  153401121   12/31/2015     23:36:00          NaN          NaN  12/31/2015   \n",
       "2  569369778   12/31/2015     23:30:00          NaN          NaN  12/31/2015   \n",
       "3  968417082   12/31/2015     23:30:00          NaN          NaN  12/31/2015   \n",
       "4  641637920   12/31/2015     23:25:00   12/31/2015     23:30:00  12/31/2015   \n",
       "\n",
       "  KY_CD                        OFNS_DESC PD_CD  \\\n",
       "0   113                          FORGERY   729   \n",
       "1   101  MURDER & NON-NEGL. MANSLAUGHTER   NaN   \n",
       "2   117                  DANGEROUS DRUGS   503   \n",
       "3   344     ASSAULT 3 & RELATED OFFENSES   101   \n",
       "4   344     ASSAULT 3 & RELATED OFFENSES   101   \n",
       "\n",
       "                          PD_DESC              ...               ADDR_PCT_CD  \\\n",
       "0  FORGERY,ETC.,UNCLASSIFIED-FELO              ...                        44   \n",
       "1                             NaN              ...                       103   \n",
       "2  CONTROLLED SUBSTANCE,INTENT TO              ...                        28   \n",
       "3                       ASSAULT 3              ...                       105   \n",
       "4                       ASSAULT 3              ...                        13   \n",
       "\n",
       "  LOC_OF_OCCUR_DESC    PREM_TYP_DESC PARKS_NM HADEVELOPT X_COORD_CD  \\\n",
       "0            INSIDE   BAR/NIGHT CLUB      NaN        NaN    1007314   \n",
       "1           OUTSIDE              NaN      NaN        NaN    1043991   \n",
       "2               NaN            OTHER      NaN        NaN     999463   \n",
       "3            INSIDE  RESIDENCE-HOUSE      NaN        NaN    1060183   \n",
       "4          FRONT OF            OTHER      NaN        NaN     987606   \n",
       "\n",
       "  Y_COORD_CD     Latitude     Longitude                        Lat_Lon  \n",
       "0     241257  40.82884833  -73.91666114  (40.828848333, -73.916661142)  \n",
       "1     193406  40.69733814  -73.78455674  (40.697338138, -73.784556739)  \n",
       "2     231690  40.80260661  -73.94505191  (40.802606608, -73.945051911)  \n",
       "3     177862  40.65454944  -73.72633879  (40.654549444, -73.726338791)  \n",
       "4     208148   40.7380024  -73.98789129     (40.7380024, -73.98789129)  \n",
       "\n",
       "[5 rows x 24 columns]"
      ]
     },
     "execution_count": 3,
     "metadata": {},
     "output_type": "execute_result"
    }
   ],
   "source": [
    "ds = pandas.read_csv(\"NYPD_Complaint_Data_Historic.csv\", sep=',', error_bad_lines=False, index_col=False, dtype='unicode')\n",
    "ds.head()"
   ]
  },
  {
   "cell_type": "markdown",
   "metadata": {},
   "source": [
    "### Exploring data"
   ]
  },
  {
   "cell_type": "code",
   "execution_count": 5,
   "metadata": {},
   "outputs": [
    {
     "data": {
      "text/plain": [
       "(1048575, 24)"
      ]
     },
     "execution_count": 5,
     "metadata": {},
     "output_type": "execute_result"
    }
   ],
   "source": [
    "ds.shape"
   ]
  },
  {
   "cell_type": "code",
   "execution_count": 4,
   "metadata": {},
   "outputs": [
    {
     "name": "stdout",
     "output_type": "stream",
     "text": [
      "<class 'pandas.core.frame.DataFrame'>\n",
      "RangeIndex: 1048575 entries, 0 to 1048574\n",
      "Data columns (total 24 columns):\n",
      "CMPLNT_NUM           1048575 non-null object\n",
      "CMPLNT_FR_DT         1048510 non-null object\n",
      "CMPLNT_FR_TM         1048575 non-null object\n",
      "CMPLNT_TO_DT         842616 non-null object\n",
      "CMPLNT_TO_TM         843002 non-null object\n",
      "RPT_DT               1048575 non-null object\n",
      "KY_CD                1048575 non-null object\n",
      "OFNS_DESC            1045695 non-null object\n",
      "PD_CD                1047842 non-null object\n",
      "PD_DESC              1047842 non-null object\n",
      "CRM_ATPT_CPTD_CD     1048574 non-null object\n",
      "LAW_CAT_CD           1048575 non-null object\n",
      "JURIS_DESC           1048575 non-null object\n",
      "BORO_NM              1048575 non-null object\n",
      "ADDR_PCT_CD          1048574 non-null object\n",
      "LOC_OF_OCCUR_DESC    830823 non-null object\n",
      "PREM_TYP_DESC        1043886 non-null object\n",
      "PARKS_NM             7599 non-null object\n",
      "HADEVELOPT           51772 non-null object\n",
      "X_COORD_CD           1016158 non-null object\n",
      "Y_COORD_CD           1016158 non-null object\n",
      "Latitude             1016158 non-null object\n",
      "Longitude            1016158 non-null object\n",
      "Lat_Lon              1016158 non-null object\n",
      "dtypes: object(24)\n",
      "memory usage: 192.0+ MB\n"
     ]
    }
   ],
   "source": [
    "ds.info()"
   ]
  }
 ],
 "metadata": {
  "kernelspec": {
   "display_name": "Python 3",
   "language": "python",
   "name": "python3"
  },
  "language_info": {
   "codemirror_mode": {
    "name": "ipython",
    "version": 3
   },
   "file_extension": ".py",
   "mimetype": "text/x-python",
   "name": "python",
   "nbconvert_exporter": "python",
   "pygments_lexer": "ipython3",
   "version": "3.6.1"
  }
 },
 "nbformat": 4,
 "nbformat_minor": 2
}
