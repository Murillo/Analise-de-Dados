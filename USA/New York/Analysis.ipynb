{
 "cells": [
  {
   "cell_type": "markdown",
   "metadata": {},
   "source": [
    "# Analysing criminal data from NY between 2013 and 2015"
   ]
  },
  {
   "cell_type": "code",
   "execution_count": 1,
   "metadata": {},
   "outputs": [
    {
     "name": "stdout",
     "output_type": "stream",
     "text": [
      "Populating the interactive namespace from numpy and matplotlib\n"
     ]
    }
   ],
   "source": [
    "%pylab inline\n",
    "import numpy\n",
    "import pandas\n",
    "import matplotlib.pyplot as plt\n",
    "import dateutil.parser as parser\n",
    "\n",
    "import warnings\n",
    "warnings.filterwarnings('ignore')"
   ]
  },
  {
   "cell_type": "markdown",
   "metadata": {},
   "source": [
    "### Creating functions"
   ]
  },
  {
   "cell_type": "code",
   "execution_count": 2,
   "metadata": {
    "collapsed": true
   },
   "outputs": [],
   "source": [
    "def getYear(date):\n",
    "    try:\n",
    "        year = date.strftime('%Y-%m-%d')\n",
    "        return parser.parse(year).year\n",
    "    except:\n",
    "        return np.nan\n",
    "    \n",
    "def getMonth(date):\n",
    "    try:\n",
    "        month = date.strftime('%Y-%m-%d')\n",
    "        return parser.parse(month).month\n",
    "    except:\n",
    "        return np.nan\n",
    "    \n",
    "def getDay(date):\n",
    "    try:\n",
    "        day = date.strftime('%Y-%m-%d')\n",
    "        return parser.parse(day).day\n",
    "    except:\n",
    "        return np.nan\n",
    "    \n",
    "def getHour(date):\n",
    "    try:\n",
    "        return date.strftime('%H:%m').split(':')[0]\n",
    "    except:\n",
    "        return np.nan\n",
    "    \n",
    "def getMinute(date):\n",
    "    try:\n",
    "        return date.strftime('%H:%m').split(':')[1]\n",
    "    except:\n",
    "        return np.nan"
   ]
  },
  {
   "cell_type": "markdown",
   "metadata": {},
   "source": [
    "### Starting analysis from Crime dataset"
   ]
  },
  {
   "cell_type": "code",
   "execution_count": 3,
   "metadata": {},
   "outputs": [
    {
     "data": {
      "text/html": [
       "<div>\n",
       "<style>\n",
       "    .dataframe thead tr:only-child th {\n",
       "        text-align: right;\n",
       "    }\n",
       "\n",
       "    .dataframe thead th {\n",
       "        text-align: left;\n",
       "    }\n",
       "\n",
       "    .dataframe tbody tr th {\n",
       "        vertical-align: top;\n",
       "    }\n",
       "</style>\n",
       "<table border=\"1\" class=\"dataframe\">\n",
       "  <thead>\n",
       "    <tr style=\"text-align: right;\">\n",
       "      <th></th>\n",
       "      <th>Column</th>\n",
       "      <th>Description</th>\n",
       "    </tr>\n",
       "  </thead>\n",
       "  <tbody>\n",
       "    <tr>\n",
       "      <th>0</th>\n",
       "      <td>CMPLNT_NUM</td>\n",
       "      <td>Randomly generated persistent ID for each comp...</td>\n",
       "    </tr>\n",
       "    <tr>\n",
       "      <th>1</th>\n",
       "      <td>CMPLNT_FR_DT</td>\n",
       "      <td>Exact date of occurrence for the reported even...</td>\n",
       "    </tr>\n",
       "    <tr>\n",
       "      <th>2</th>\n",
       "      <td>CMPLNT_FR_TM</td>\n",
       "      <td>Exact time of occurrence for the reported even...</td>\n",
       "    </tr>\n",
       "    <tr>\n",
       "      <th>3</th>\n",
       "      <td>CMPLNT_TO_DT</td>\n",
       "      <td>Ending date of occurrence for the reported eve...</td>\n",
       "    </tr>\n",
       "    <tr>\n",
       "      <th>4</th>\n",
       "      <td>CMPLNT_TO_TM</td>\n",
       "      <td>Ending time of occurrence for the reported eve...</td>\n",
       "    </tr>\n",
       "    <tr>\n",
       "      <th>5</th>\n",
       "      <td>RPT_DT</td>\n",
       "      <td>Date event was reported to police</td>\n",
       "    </tr>\n",
       "    <tr>\n",
       "      <th>6</th>\n",
       "      <td>KY_CD</td>\n",
       "      <td>Three digit offense classification code</td>\n",
       "    </tr>\n",
       "    <tr>\n",
       "      <th>7</th>\n",
       "      <td>OFNS_DESC</td>\n",
       "      <td>Description of offense corresponding with key ...</td>\n",
       "    </tr>\n",
       "    <tr>\n",
       "      <th>8</th>\n",
       "      <td>PD_CD</td>\n",
       "      <td>Three digit internal classification code (more...</td>\n",
       "    </tr>\n",
       "    <tr>\n",
       "      <th>9</th>\n",
       "      <td>PD_DESC</td>\n",
       "      <td>Description of internal classification corresp...</td>\n",
       "    </tr>\n",
       "    <tr>\n",
       "      <th>10</th>\n",
       "      <td>CRM_ATPT_CPTD_CD</td>\n",
       "      <td>Indicator of whether crime was successfully co...</td>\n",
       "    </tr>\n",
       "    <tr>\n",
       "      <th>11</th>\n",
       "      <td>LAW_CAT_CD</td>\n",
       "      <td>Level of offense: felony, misdemeanor, violation</td>\n",
       "    </tr>\n",
       "    <tr>\n",
       "      <th>12</th>\n",
       "      <td>JURIS_DESC</td>\n",
       "      <td>Jurisdiction responsible for incident. Either ...</td>\n",
       "    </tr>\n",
       "    <tr>\n",
       "      <th>13</th>\n",
       "      <td>BORO_NM</td>\n",
       "      <td>The name of the borough in which the incident ...</td>\n",
       "    </tr>\n",
       "    <tr>\n",
       "      <th>14</th>\n",
       "      <td>ADDR_PCT_CD</td>\n",
       "      <td>The precinct in which the incident occurred</td>\n",
       "    </tr>\n",
       "    <tr>\n",
       "      <th>15</th>\n",
       "      <td>LOC_OF_OCCUR_DESC</td>\n",
       "      <td>Specific location of occurrence in or around t...</td>\n",
       "    </tr>\n",
       "    <tr>\n",
       "      <th>16</th>\n",
       "      <td>PREM_TYP_DESC</td>\n",
       "      <td>Specific description of premises; grocery stor...</td>\n",
       "    </tr>\n",
       "    <tr>\n",
       "      <th>17</th>\n",
       "      <td>PARKS_NM</td>\n",
       "      <td>Name of NYC park, playground or greenspace of ...</td>\n",
       "    </tr>\n",
       "    <tr>\n",
       "      <th>18</th>\n",
       "      <td>HADEVELOPT</td>\n",
       "      <td>Name of NYCHA housing development of occurrenc...</td>\n",
       "    </tr>\n",
       "    <tr>\n",
       "      <th>19</th>\n",
       "      <td>X_COORD_CD</td>\n",
       "      <td>X-coordinate for New York State Plane Coordina...</td>\n",
       "    </tr>\n",
       "    <tr>\n",
       "      <th>20</th>\n",
       "      <td>Y_COORD_CD</td>\n",
       "      <td>Y-coordinate for New York State Plane Coordina...</td>\n",
       "    </tr>\n",
       "    <tr>\n",
       "      <th>21</th>\n",
       "      <td>Latitude</td>\n",
       "      <td>Latitude coordinate for Global Coordinate Syst...</td>\n",
       "    </tr>\n",
       "    <tr>\n",
       "      <th>22</th>\n",
       "      <td>Longitude</td>\n",
       "      <td>Longitude coordinate for Global Coordinate Sys...</td>\n",
       "    </tr>\n",
       "  </tbody>\n",
       "</table>\n",
       "</div>"
      ],
      "text/plain": [
       "               Column                                        Description\n",
       "0          CMPLNT_NUM  Randomly generated persistent ID for each comp...\n",
       "1        CMPLNT_FR_DT  Exact date of occurrence for the reported even...\n",
       "2        CMPLNT_FR_TM  Exact time of occurrence for the reported even...\n",
       "3        CMPLNT_TO_DT  Ending date of occurrence for the reported eve...\n",
       "4        CMPLNT_TO_TM  Ending time of occurrence for the reported eve...\n",
       "5              RPT_DT                 Date event was reported to police \n",
       "6               KY_CD            Three digit offense classification code\n",
       "7           OFNS_DESC  Description of offense corresponding with key ...\n",
       "8               PD_CD  Three digit internal classification code (more...\n",
       "9             PD_DESC  Description of internal classification corresp...\n",
       "10   CRM_ATPT_CPTD_CD  Indicator of whether crime was successfully co...\n",
       "11         LAW_CAT_CD  Level of offense: felony, misdemeanor, violation \n",
       "12         JURIS_DESC  Jurisdiction responsible for incident. Either ...\n",
       "13            BORO_NM  The name of the borough in which the incident ...\n",
       "14        ADDR_PCT_CD        The precinct in which the incident occurred\n",
       "15  LOC_OF_OCCUR_DESC  Specific location of occurrence in or around t...\n",
       "16      PREM_TYP_DESC  Specific description of premises; grocery stor...\n",
       "17           PARKS_NM  Name of NYC park, playground or greenspace of ...\n",
       "18         HADEVELOPT  Name of NYCHA housing development of occurrenc...\n",
       "19         X_COORD_CD  X-coordinate for New York State Plane Coordina...\n",
       "20         Y_COORD_CD  Y-coordinate for New York State Plane Coordina...\n",
       "21           Latitude  Latitude coordinate for Global Coordinate Syst...\n",
       "22          Longitude  Longitude coordinate for Global Coordinate Sys..."
      ]
     },
     "execution_count": 3,
     "metadata": {},
     "output_type": "execute_result"
    }
   ],
   "source": [
    "desc = pandas.read_csv(\"Crime_Column_Description.csv\", sep=',', error_bad_lines=False, index_col=False, dtype='unicode')\n",
    "desc"
   ]
  },
  {
   "cell_type": "markdown",
   "metadata": {},
   "source": [
    "### Reading data historic"
   ]
  },
  {
   "cell_type": "code",
   "execution_count": 4,
   "metadata": {},
   "outputs": [
    {
     "data": {
      "text/html": [
       "<div>\n",
       "<style>\n",
       "    .dataframe thead tr:only-child th {\n",
       "        text-align: right;\n",
       "    }\n",
       "\n",
       "    .dataframe thead th {\n",
       "        text-align: left;\n",
       "    }\n",
       "\n",
       "    .dataframe tbody tr th {\n",
       "        vertical-align: top;\n",
       "    }\n",
       "</style>\n",
       "<table border=\"1\" class=\"dataframe\">\n",
       "  <thead>\n",
       "    <tr style=\"text-align: right;\">\n",
       "      <th></th>\n",
       "      <th>CMPLNT_NUM</th>\n",
       "      <th>CMPLNT_FR_DT</th>\n",
       "      <th>CMPLNT_FR_TM</th>\n",
       "      <th>CMPLNT_TO_DT</th>\n",
       "      <th>CMPLNT_TO_TM</th>\n",
       "      <th>RPT_DT</th>\n",
       "      <th>KY_CD</th>\n",
       "      <th>OFNS_DESC</th>\n",
       "      <th>PD_CD</th>\n",
       "      <th>PD_DESC</th>\n",
       "      <th>...</th>\n",
       "      <th>ADDR_PCT_CD</th>\n",
       "      <th>LOC_OF_OCCUR_DESC</th>\n",
       "      <th>PREM_TYP_DESC</th>\n",
       "      <th>PARKS_NM</th>\n",
       "      <th>HADEVELOPT</th>\n",
       "      <th>X_COORD_CD</th>\n",
       "      <th>Y_COORD_CD</th>\n",
       "      <th>Latitude</th>\n",
       "      <th>Longitude</th>\n",
       "      <th>Lat_Lon</th>\n",
       "    </tr>\n",
       "  </thead>\n",
       "  <tbody>\n",
       "    <tr>\n",
       "      <th>0</th>\n",
       "      <td>101109527</td>\n",
       "      <td>12/31/2015</td>\n",
       "      <td>23:45:00</td>\n",
       "      <td>NaN</td>\n",
       "      <td>NaN</td>\n",
       "      <td>12/31/2015</td>\n",
       "      <td>113</td>\n",
       "      <td>FORGERY</td>\n",
       "      <td>729</td>\n",
       "      <td>FORGERY,ETC.,UNCLASSIFIED-FELO</td>\n",
       "      <td>...</td>\n",
       "      <td>44</td>\n",
       "      <td>INSIDE</td>\n",
       "      <td>BAR/NIGHT CLUB</td>\n",
       "      <td>NaN</td>\n",
       "      <td>NaN</td>\n",
       "      <td>1007314</td>\n",
       "      <td>241257</td>\n",
       "      <td>40.82884833</td>\n",
       "      <td>-73.91666114</td>\n",
       "      <td>(40.828848333, -73.916661142)</td>\n",
       "    </tr>\n",
       "    <tr>\n",
       "      <th>1</th>\n",
       "      <td>153401121</td>\n",
       "      <td>12/31/2015</td>\n",
       "      <td>23:36:00</td>\n",
       "      <td>NaN</td>\n",
       "      <td>NaN</td>\n",
       "      <td>12/31/2015</td>\n",
       "      <td>101</td>\n",
       "      <td>MURDER &amp; NON-NEGL. MANSLAUGHTER</td>\n",
       "      <td>NaN</td>\n",
       "      <td>NaN</td>\n",
       "      <td>...</td>\n",
       "      <td>103</td>\n",
       "      <td>OUTSIDE</td>\n",
       "      <td>NaN</td>\n",
       "      <td>NaN</td>\n",
       "      <td>NaN</td>\n",
       "      <td>1043991</td>\n",
       "      <td>193406</td>\n",
       "      <td>40.69733814</td>\n",
       "      <td>-73.78455674</td>\n",
       "      <td>(40.697338138, -73.784556739)</td>\n",
       "    </tr>\n",
       "    <tr>\n",
       "      <th>2</th>\n",
       "      <td>569369778</td>\n",
       "      <td>12/31/2015</td>\n",
       "      <td>23:30:00</td>\n",
       "      <td>NaN</td>\n",
       "      <td>NaN</td>\n",
       "      <td>12/31/2015</td>\n",
       "      <td>117</td>\n",
       "      <td>DANGEROUS DRUGS</td>\n",
       "      <td>503</td>\n",
       "      <td>CONTROLLED SUBSTANCE,INTENT TO</td>\n",
       "      <td>...</td>\n",
       "      <td>28</td>\n",
       "      <td>NaN</td>\n",
       "      <td>OTHER</td>\n",
       "      <td>NaN</td>\n",
       "      <td>NaN</td>\n",
       "      <td>999463</td>\n",
       "      <td>231690</td>\n",
       "      <td>40.80260661</td>\n",
       "      <td>-73.94505191</td>\n",
       "      <td>(40.802606608, -73.945051911)</td>\n",
       "    </tr>\n",
       "    <tr>\n",
       "      <th>3</th>\n",
       "      <td>968417082</td>\n",
       "      <td>12/31/2015</td>\n",
       "      <td>23:30:00</td>\n",
       "      <td>NaN</td>\n",
       "      <td>NaN</td>\n",
       "      <td>12/31/2015</td>\n",
       "      <td>344</td>\n",
       "      <td>ASSAULT 3 &amp; RELATED OFFENSES</td>\n",
       "      <td>101</td>\n",
       "      <td>ASSAULT 3</td>\n",
       "      <td>...</td>\n",
       "      <td>105</td>\n",
       "      <td>INSIDE</td>\n",
       "      <td>RESIDENCE-HOUSE</td>\n",
       "      <td>NaN</td>\n",
       "      <td>NaN</td>\n",
       "      <td>1060183</td>\n",
       "      <td>177862</td>\n",
       "      <td>40.65454944</td>\n",
       "      <td>-73.72633879</td>\n",
       "      <td>(40.654549444, -73.726338791)</td>\n",
       "    </tr>\n",
       "    <tr>\n",
       "      <th>4</th>\n",
       "      <td>641637920</td>\n",
       "      <td>12/31/2015</td>\n",
       "      <td>23:25:00</td>\n",
       "      <td>12/31/2015</td>\n",
       "      <td>23:30:00</td>\n",
       "      <td>12/31/2015</td>\n",
       "      <td>344</td>\n",
       "      <td>ASSAULT 3 &amp; RELATED OFFENSES</td>\n",
       "      <td>101</td>\n",
       "      <td>ASSAULT 3</td>\n",
       "      <td>...</td>\n",
       "      <td>13</td>\n",
       "      <td>FRONT OF</td>\n",
       "      <td>OTHER</td>\n",
       "      <td>NaN</td>\n",
       "      <td>NaN</td>\n",
       "      <td>987606</td>\n",
       "      <td>208148</td>\n",
       "      <td>40.7380024</td>\n",
       "      <td>-73.98789129</td>\n",
       "      <td>(40.7380024, -73.98789129)</td>\n",
       "    </tr>\n",
       "  </tbody>\n",
       "</table>\n",
       "<p>5 rows × 24 columns</p>\n",
       "</div>"
      ],
      "text/plain": [
       "  CMPLNT_NUM CMPLNT_FR_DT CMPLNT_FR_TM CMPLNT_TO_DT CMPLNT_TO_TM      RPT_DT  \\\n",
       "0  101109527   12/31/2015     23:45:00          NaN          NaN  12/31/2015   \n",
       "1  153401121   12/31/2015     23:36:00          NaN          NaN  12/31/2015   \n",
       "2  569369778   12/31/2015     23:30:00          NaN          NaN  12/31/2015   \n",
       "3  968417082   12/31/2015     23:30:00          NaN          NaN  12/31/2015   \n",
       "4  641637920   12/31/2015     23:25:00   12/31/2015     23:30:00  12/31/2015   \n",
       "\n",
       "  KY_CD                        OFNS_DESC PD_CD  \\\n",
       "0   113                          FORGERY   729   \n",
       "1   101  MURDER & NON-NEGL. MANSLAUGHTER   NaN   \n",
       "2   117                  DANGEROUS DRUGS   503   \n",
       "3   344     ASSAULT 3 & RELATED OFFENSES   101   \n",
       "4   344     ASSAULT 3 & RELATED OFFENSES   101   \n",
       "\n",
       "                          PD_DESC              ...               ADDR_PCT_CD  \\\n",
       "0  FORGERY,ETC.,UNCLASSIFIED-FELO              ...                        44   \n",
       "1                             NaN              ...                       103   \n",
       "2  CONTROLLED SUBSTANCE,INTENT TO              ...                        28   \n",
       "3                       ASSAULT 3              ...                       105   \n",
       "4                       ASSAULT 3              ...                        13   \n",
       "\n",
       "  LOC_OF_OCCUR_DESC    PREM_TYP_DESC PARKS_NM HADEVELOPT X_COORD_CD  \\\n",
       "0            INSIDE   BAR/NIGHT CLUB      NaN        NaN    1007314   \n",
       "1           OUTSIDE              NaN      NaN        NaN    1043991   \n",
       "2               NaN            OTHER      NaN        NaN     999463   \n",
       "3            INSIDE  RESIDENCE-HOUSE      NaN        NaN    1060183   \n",
       "4          FRONT OF            OTHER      NaN        NaN     987606   \n",
       "\n",
       "  Y_COORD_CD     Latitude     Longitude                        Lat_Lon  \n",
       "0     241257  40.82884833  -73.91666114  (40.828848333, -73.916661142)  \n",
       "1     193406  40.69733814  -73.78455674  (40.697338138, -73.784556739)  \n",
       "2     231690  40.80260661  -73.94505191  (40.802606608, -73.945051911)  \n",
       "3     177862  40.65454944  -73.72633879  (40.654549444, -73.726338791)  \n",
       "4     208148   40.7380024  -73.98789129     (40.7380024, -73.98789129)  \n",
       "\n",
       "[5 rows x 24 columns]"
      ]
     },
     "execution_count": 4,
     "metadata": {},
     "output_type": "execute_result"
    }
   ],
   "source": [
    "ds = pandas.read_csv(\"NYPD_Complaint_Data_Historic.csv\", sep=',', error_bad_lines=False, index_col=False, dtype='unicode')\n",
    "ds.head()"
   ]
  },
  {
   "cell_type": "code",
   "execution_count": 5,
   "metadata": {},
   "outputs": [
    {
     "data": {
      "text/html": [
       "<div>\n",
       "<style>\n",
       "    .dataframe thead tr:only-child th {\n",
       "        text-align: right;\n",
       "    }\n",
       "\n",
       "    .dataframe thead th {\n",
       "        text-align: left;\n",
       "    }\n",
       "\n",
       "    .dataframe tbody tr th {\n",
       "        vertical-align: top;\n",
       "    }\n",
       "</style>\n",
       "<table border=\"1\" class=\"dataframe\">\n",
       "  <thead>\n",
       "    <tr style=\"text-align: right;\">\n",
       "      <th></th>\n",
       "      <th>CMPLNT_NUM</th>\n",
       "      <th>CMPLNT_TO_DT</th>\n",
       "      <th>CMPLNT_TO_TM</th>\n",
       "      <th>RPT_DT</th>\n",
       "      <th>KY_CD</th>\n",
       "      <th>OFNS_DESC</th>\n",
       "      <th>PD_CD</th>\n",
       "      <th>PD_DESC</th>\n",
       "      <th>CRM_ATPT_CPTD_CD</th>\n",
       "      <th>LAW_CAT_CD</th>\n",
       "      <th>...</th>\n",
       "      <th>X_COORD_CD</th>\n",
       "      <th>Y_COORD_CD</th>\n",
       "      <th>Latitude</th>\n",
       "      <th>Longitude</th>\n",
       "      <th>Lat_Lon</th>\n",
       "      <th>year</th>\n",
       "      <th>month</th>\n",
       "      <th>day</th>\n",
       "      <th>hour</th>\n",
       "      <th>minute</th>\n",
       "    </tr>\n",
       "  </thead>\n",
       "  <tbody>\n",
       "    <tr>\n",
       "      <th>0</th>\n",
       "      <td>101109527</td>\n",
       "      <td>NaN</td>\n",
       "      <td>NaN</td>\n",
       "      <td>12/31/2015</td>\n",
       "      <td>113</td>\n",
       "      <td>FORGERY</td>\n",
       "      <td>729</td>\n",
       "      <td>FORGERY,ETC.,UNCLASSIFIED-FELO</td>\n",
       "      <td>COMPLETED</td>\n",
       "      <td>FELONY</td>\n",
       "      <td>...</td>\n",
       "      <td>1007314</td>\n",
       "      <td>241257</td>\n",
       "      <td>40.82884833</td>\n",
       "      <td>-73.91666114</td>\n",
       "      <td>(40.828848333, -73.916661142)</td>\n",
       "      <td>2015.0</td>\n",
       "      <td>12.0</td>\n",
       "      <td>31.0</td>\n",
       "      <td>23</td>\n",
       "      <td>05</td>\n",
       "    </tr>\n",
       "    <tr>\n",
       "      <th>1</th>\n",
       "      <td>153401121</td>\n",
       "      <td>NaN</td>\n",
       "      <td>NaN</td>\n",
       "      <td>12/31/2015</td>\n",
       "      <td>101</td>\n",
       "      <td>MURDER &amp; NON-NEGL. MANSLAUGHTER</td>\n",
       "      <td>NaN</td>\n",
       "      <td>NaN</td>\n",
       "      <td>COMPLETED</td>\n",
       "      <td>FELONY</td>\n",
       "      <td>...</td>\n",
       "      <td>1043991</td>\n",
       "      <td>193406</td>\n",
       "      <td>40.69733814</td>\n",
       "      <td>-73.78455674</td>\n",
       "      <td>(40.697338138, -73.784556739)</td>\n",
       "      <td>2015.0</td>\n",
       "      <td>12.0</td>\n",
       "      <td>31.0</td>\n",
       "      <td>23</td>\n",
       "      <td>05</td>\n",
       "    </tr>\n",
       "    <tr>\n",
       "      <th>2</th>\n",
       "      <td>569369778</td>\n",
       "      <td>NaN</td>\n",
       "      <td>NaN</td>\n",
       "      <td>12/31/2015</td>\n",
       "      <td>117</td>\n",
       "      <td>DANGEROUS DRUGS</td>\n",
       "      <td>503</td>\n",
       "      <td>CONTROLLED SUBSTANCE,INTENT TO</td>\n",
       "      <td>COMPLETED</td>\n",
       "      <td>FELONY</td>\n",
       "      <td>...</td>\n",
       "      <td>999463</td>\n",
       "      <td>231690</td>\n",
       "      <td>40.80260661</td>\n",
       "      <td>-73.94505191</td>\n",
       "      <td>(40.802606608, -73.945051911)</td>\n",
       "      <td>2015.0</td>\n",
       "      <td>12.0</td>\n",
       "      <td>31.0</td>\n",
       "      <td>23</td>\n",
       "      <td>05</td>\n",
       "    </tr>\n",
       "    <tr>\n",
       "      <th>3</th>\n",
       "      <td>968417082</td>\n",
       "      <td>NaN</td>\n",
       "      <td>NaN</td>\n",
       "      <td>12/31/2015</td>\n",
       "      <td>344</td>\n",
       "      <td>ASSAULT 3 &amp; RELATED OFFENSES</td>\n",
       "      <td>101</td>\n",
       "      <td>ASSAULT 3</td>\n",
       "      <td>COMPLETED</td>\n",
       "      <td>MISDEMEANOR</td>\n",
       "      <td>...</td>\n",
       "      <td>1060183</td>\n",
       "      <td>177862</td>\n",
       "      <td>40.65454944</td>\n",
       "      <td>-73.72633879</td>\n",
       "      <td>(40.654549444, -73.726338791)</td>\n",
       "      <td>2015.0</td>\n",
       "      <td>12.0</td>\n",
       "      <td>31.0</td>\n",
       "      <td>23</td>\n",
       "      <td>05</td>\n",
       "    </tr>\n",
       "    <tr>\n",
       "      <th>4</th>\n",
       "      <td>641637920</td>\n",
       "      <td>12/31/2015</td>\n",
       "      <td>23:30:00</td>\n",
       "      <td>12/31/2015</td>\n",
       "      <td>344</td>\n",
       "      <td>ASSAULT 3 &amp; RELATED OFFENSES</td>\n",
       "      <td>101</td>\n",
       "      <td>ASSAULT 3</td>\n",
       "      <td>COMPLETED</td>\n",
       "      <td>MISDEMEANOR</td>\n",
       "      <td>...</td>\n",
       "      <td>987606</td>\n",
       "      <td>208148</td>\n",
       "      <td>40.7380024</td>\n",
       "      <td>-73.98789129</td>\n",
       "      <td>(40.7380024, -73.98789129)</td>\n",
       "      <td>2015.0</td>\n",
       "      <td>12.0</td>\n",
       "      <td>31.0</td>\n",
       "      <td>23</td>\n",
       "      <td>05</td>\n",
       "    </tr>\n",
       "  </tbody>\n",
       "</table>\n",
       "<p>5 rows × 27 columns</p>\n",
       "</div>"
      ],
      "text/plain": [
       "  CMPLNT_NUM CMPLNT_TO_DT CMPLNT_TO_TM      RPT_DT KY_CD  \\\n",
       "0  101109527          NaN          NaN  12/31/2015   113   \n",
       "1  153401121          NaN          NaN  12/31/2015   101   \n",
       "2  569369778          NaN          NaN  12/31/2015   117   \n",
       "3  968417082          NaN          NaN  12/31/2015   344   \n",
       "4  641637920   12/31/2015     23:30:00  12/31/2015   344   \n",
       "\n",
       "                         OFNS_DESC PD_CD                         PD_DESC  \\\n",
       "0                          FORGERY   729  FORGERY,ETC.,UNCLASSIFIED-FELO   \n",
       "1  MURDER & NON-NEGL. MANSLAUGHTER   NaN                             NaN   \n",
       "2                  DANGEROUS DRUGS   503  CONTROLLED SUBSTANCE,INTENT TO   \n",
       "3     ASSAULT 3 & RELATED OFFENSES   101                       ASSAULT 3   \n",
       "4     ASSAULT 3 & RELATED OFFENSES   101                       ASSAULT 3   \n",
       "\n",
       "  CRM_ATPT_CPTD_CD   LAW_CAT_CD  ...   X_COORD_CD Y_COORD_CD     Latitude  \\\n",
       "0        COMPLETED       FELONY  ...      1007314     241257  40.82884833   \n",
       "1        COMPLETED       FELONY  ...      1043991     193406  40.69733814   \n",
       "2        COMPLETED       FELONY  ...       999463     231690  40.80260661   \n",
       "3        COMPLETED  MISDEMEANOR  ...      1060183     177862  40.65454944   \n",
       "4        COMPLETED  MISDEMEANOR  ...       987606     208148   40.7380024   \n",
       "\n",
       "      Longitude                        Lat_Lon    year month   day hour minute  \n",
       "0  -73.91666114  (40.828848333, -73.916661142)  2015.0  12.0  31.0   23     05  \n",
       "1  -73.78455674  (40.697338138, -73.784556739)  2015.0  12.0  31.0   23     05  \n",
       "2  -73.94505191  (40.802606608, -73.945051911)  2015.0  12.0  31.0   23     05  \n",
       "3  -73.72633879  (40.654549444, -73.726338791)  2015.0  12.0  31.0   23     05  \n",
       "4  -73.98789129     (40.7380024, -73.98789129)  2015.0  12.0  31.0   23     05  \n",
       "\n",
       "[5 rows x 27 columns]"
      ]
     },
     "execution_count": 5,
     "metadata": {},
     "output_type": "execute_result"
    }
   ],
   "source": [
    "date = pandas.to_datetime(ds['CMPLNT_FR_DT'], errors = 'coerce')\n",
    "time = pandas.to_datetime(ds['CMPLNT_FR_TM'], errors = 'coerce')\n",
    "\n",
    "ds['year'] = date.apply(getYear)\n",
    "ds['month'] = date.apply(getMonth)\n",
    "ds['day'] = date.apply(getDay)\n",
    "ds['hour'] = time.apply(getHour)\n",
    "ds['minute'] = time.apply(getMinute)\n",
    "del ds[\"CMPLNT_FR_DT\"]\n",
    "del ds[\"CMPLNT_FR_TM\"]\n",
    "ds.head()"
   ]
  },
  {
   "cell_type": "markdown",
   "metadata": {},
   "source": [
    "### Reading population data in NY"
   ]
  },
  {
   "cell_type": "code",
   "execution_count": 6,
   "metadata": {},
   "outputs": [
    {
     "data": {
      "text/html": [
       "<div>\n",
       "<style>\n",
       "    .dataframe thead tr:only-child th {\n",
       "        text-align: right;\n",
       "    }\n",
       "\n",
       "    .dataframe thead th {\n",
       "        text-align: left;\n",
       "    }\n",
       "\n",
       "    .dataframe tbody tr th {\n",
       "        vertical-align: top;\n",
       "    }\n",
       "</style>\n",
       "<table border=\"1\" class=\"dataframe\">\n",
       "  <thead>\n",
       "    <tr style=\"text-align: right;\">\n",
       "      <th></th>\n",
       "      <th>Age Group</th>\n",
       "      <th>Borough</th>\n",
       "      <th>1950</th>\n",
       "      <th>1950 - Boro share of NYC total</th>\n",
       "      <th>1960</th>\n",
       "      <th>1960 - Boro share of NYC total</th>\n",
       "      <th>1970</th>\n",
       "      <th>1970 - Boro share of NYC total</th>\n",
       "      <th>1980</th>\n",
       "      <th>1980 - Boro share of NYC total</th>\n",
       "      <th>...</th>\n",
       "      <th>2000</th>\n",
       "      <th>2000 - Boro share of NYC total</th>\n",
       "      <th>2010</th>\n",
       "      <th>2010 - Boro share of NYC total</th>\n",
       "      <th>2020</th>\n",
       "      <th>2020 - Boro share of NYC total</th>\n",
       "      <th>2030</th>\n",
       "      <th>2030 - Boro share of NYC total</th>\n",
       "      <th>2040</th>\n",
       "      <th>2040 - Boro share of NYC total</th>\n",
       "    </tr>\n",
       "  </thead>\n",
       "  <tbody>\n",
       "    <tr>\n",
       "      <th>0</th>\n",
       "      <td>Total Population</td>\n",
       "      <td>NYC Total</td>\n",
       "      <td>7,891,957</td>\n",
       "      <td>100%</td>\n",
       "      <td>7,781,984</td>\n",
       "      <td>100%</td>\n",
       "      <td>7,894,862</td>\n",
       "      <td>100%</td>\n",
       "      <td>7,071,639</td>\n",
       "      <td>100%</td>\n",
       "      <td>...</td>\n",
       "      <td>8,008,278</td>\n",
       "      <td>100%</td>\n",
       "      <td>8,242,624</td>\n",
       "      <td>100%</td>\n",
       "      <td>8,550,971</td>\n",
       "      <td>100%</td>\n",
       "      <td>8,821,027</td>\n",
       "      <td>100%</td>\n",
       "      <td>9,025,145</td>\n",
       "      <td>100%</td>\n",
       "    </tr>\n",
       "    <tr>\n",
       "      <th>1</th>\n",
       "      <td>Total Population</td>\n",
       "      <td>Bronx</td>\n",
       "      <td>1,451,277</td>\n",
       "      <td>18.39%</td>\n",
       "      <td>1,424,815</td>\n",
       "      <td>18.31%</td>\n",
       "      <td>1,471,701</td>\n",
       "      <td>18.64%</td>\n",
       "      <td>1,168,972</td>\n",
       "      <td>16.53%</td>\n",
       "      <td>...</td>\n",
       "      <td>1,332,650</td>\n",
       "      <td>16.64%</td>\n",
       "      <td>1,385,108</td>\n",
       "      <td>16.8%</td>\n",
       "      <td>1,446,788</td>\n",
       "      <td>16.92%</td>\n",
       "      <td>1,518,998</td>\n",
       "      <td>17.22%</td>\n",
       "      <td>1,579,245</td>\n",
       "      <td>17.5%</td>\n",
       "    </tr>\n",
       "    <tr>\n",
       "      <th>2</th>\n",
       "      <td>Total Population</td>\n",
       "      <td>Brooklyn</td>\n",
       "      <td>2,738,175</td>\n",
       "      <td>34.7%</td>\n",
       "      <td>2,627,319</td>\n",
       "      <td>33.76%</td>\n",
       "      <td>2,602,012</td>\n",
       "      <td>32.96%</td>\n",
       "      <td>2,230,936</td>\n",
       "      <td>31.55%</td>\n",
       "      <td>...</td>\n",
       "      <td>2,465,326</td>\n",
       "      <td>30.78%</td>\n",
       "      <td>2,552,911</td>\n",
       "      <td>30.97%</td>\n",
       "      <td>2,648,452</td>\n",
       "      <td>30.97%</td>\n",
       "      <td>2,754,009</td>\n",
       "      <td>31.22%</td>\n",
       "      <td>2,840,525</td>\n",
       "      <td>31.47%</td>\n",
       "    </tr>\n",
       "    <tr>\n",
       "      <th>3</th>\n",
       "      <td>Total Population</td>\n",
       "      <td>Manhattan</td>\n",
       "      <td>1,960,101</td>\n",
       "      <td>24.84%</td>\n",
       "      <td>1,698,281</td>\n",
       "      <td>21.82%</td>\n",
       "      <td>1,539,233</td>\n",
       "      <td>19.5%</td>\n",
       "      <td>1,428,285</td>\n",
       "      <td>20.2%</td>\n",
       "      <td>...</td>\n",
       "      <td>1,537,195</td>\n",
       "      <td>19.2%</td>\n",
       "      <td>1,585,873</td>\n",
       "      <td>19.24%</td>\n",
       "      <td>1,638,281</td>\n",
       "      <td>19.16%</td>\n",
       "      <td>1,676,720</td>\n",
       "      <td>19.01%</td>\n",
       "      <td>1,691,617</td>\n",
       "      <td>18.74%</td>\n",
       "    </tr>\n",
       "    <tr>\n",
       "      <th>4</th>\n",
       "      <td>Total Population</td>\n",
       "      <td>Queens</td>\n",
       "      <td>1,550,849</td>\n",
       "      <td>19.65%</td>\n",
       "      <td>1,809,578</td>\n",
       "      <td>23.25%</td>\n",
       "      <td>1,986,473</td>\n",
       "      <td>25.16%</td>\n",
       "      <td>1,891,325</td>\n",
       "      <td>26.75%</td>\n",
       "      <td>...</td>\n",
       "      <td>2,229,379</td>\n",
       "      <td>27.84%</td>\n",
       "      <td>2,250,002</td>\n",
       "      <td>27.3%</td>\n",
       "      <td>2,330,295</td>\n",
       "      <td>27.25%</td>\n",
       "      <td>2,373,551</td>\n",
       "      <td>26.91%</td>\n",
       "      <td>2,412,649</td>\n",
       "      <td>26.73%</td>\n",
       "    </tr>\n",
       "  </tbody>\n",
       "</table>\n",
       "<p>5 rows × 22 columns</p>\n",
       "</div>"
      ],
      "text/plain": [
       "          Age Group       Borough       1950 1950 - Boro share of NYC total  \\\n",
       "0  Total Population     NYC Total  7,891,957                           100%   \n",
       "1  Total Population         Bronx  1,451,277                         18.39%   \n",
       "2  Total Population      Brooklyn  2,738,175                          34.7%   \n",
       "3  Total Population     Manhattan  1,960,101                         24.84%   \n",
       "4  Total Population        Queens  1,550,849                         19.65%   \n",
       "\n",
       "        1960 1960 - Boro share of NYC total       1970  \\\n",
       "0  7,781,984                           100%  7,894,862   \n",
       "1  1,424,815                         18.31%  1,471,701   \n",
       "2  2,627,319                         33.76%  2,602,012   \n",
       "3  1,698,281                         21.82%  1,539,233   \n",
       "4  1,809,578                         23.25%  1,986,473   \n",
       "\n",
       "  1970 - Boro share of NYC total       1980 1980 - Boro share of NYC total  \\\n",
       "0                           100%  7,071,639                           100%   \n",
       "1                         18.64%  1,168,972                         16.53%   \n",
       "2                         32.96%  2,230,936                         31.55%   \n",
       "3                          19.5%  1,428,285                          20.2%   \n",
       "4                         25.16%  1,891,325                         26.75%   \n",
       "\n",
       "               ...                     2000 2000 - Boro share of NYC total  \\\n",
       "0              ...                8,008,278                           100%   \n",
       "1              ...                1,332,650                         16.64%   \n",
       "2              ...                2,465,326                         30.78%   \n",
       "3              ...                1,537,195                          19.2%   \n",
       "4              ...                2,229,379                         27.84%   \n",
       "\n",
       "        2010 2010 - Boro share of NYC total       2020  \\\n",
       "0  8,242,624                           100%  8,550,971   \n",
       "1  1,385,108                          16.8%  1,446,788   \n",
       "2  2,552,911                         30.97%  2,648,452   \n",
       "3  1,585,873                         19.24%  1,638,281   \n",
       "4  2,250,002                          27.3%  2,330,295   \n",
       "\n",
       "  2020 - Boro share of NYC total       2030 2030 - Boro share of NYC total  \\\n",
       "0                           100%  8,821,027                           100%   \n",
       "1                         16.92%  1,518,998                         17.22%   \n",
       "2                         30.97%  2,754,009                         31.22%   \n",
       "3                         19.16%  1,676,720                         19.01%   \n",
       "4                         27.25%  2,373,551                         26.91%   \n",
       "\n",
       "        2040 2040 - Boro share of NYC total  \n",
       "0  9,025,145                           100%  \n",
       "1  1,579,245                          17.5%  \n",
       "2  2,840,525                         31.47%  \n",
       "3  1,691,617                         18.74%  \n",
       "4  2,412,649                         26.73%  \n",
       "\n",
       "[5 rows x 22 columns]"
      ]
     },
     "execution_count": 6,
     "metadata": {},
     "output_type": "execute_result"
    }
   ],
   "source": [
    "population = pandas.read_csv(\"Population_by_Borough_NYC.csv\")\n",
    "population.head()"
   ]
  },
  {
   "cell_type": "code",
   "execution_count": 9,
   "metadata": {},
   "outputs": [
    {
     "name": "stdout",
     "output_type": "stream",
     "text": [
      "(1048575, 27)\n",
      "(996803, 27)\n",
      "(51772, 27)\n"
     ]
    },
    {
     "data": {
      "text/plain": [
       "CASTLE HILL                                 1106\n",
       "LINCOLN                                      992\n",
       "VAN DYKE I                                   912\n",
       "BROWNSVILLE                                  856\n",
       "LINDEN                                       842\n",
       "WHITMAN                                      781\n",
       "DOUGLASS                                     769\n",
       "PINK                                         736\n",
       "THROGGS NECK                                 734\n",
       "BUTLER                                       718\n",
       "INGERSOLL                                    695\n",
       "FARRAGUT                                     694\n",
       "BUSHWICK                                     674\n",
       "MARCY                                        655\n",
       "GRANT                                        654\n",
       "BOULEVARD                                    648\n",
       "BARUCH                                       646\n",
       "TILDEN                                       645\n",
       "POMONOK                                      637\n",
       "SMITH                                        611\n",
       "BRONXDALE                                    603\n",
       "SOUNDVIEW                                    602\n",
       "CYPRESS HILLS                                595\n",
       "WILLIAMSBURG                                 588\n",
       "RED HOOK WEST                                575\n",
       "MONROE                                       571\n",
       "STAPLETON                                    550\n",
       "TOMPKINS                                     550\n",
       "MANHATTANVILLE                               514\n",
       "SHEEPSHEAD BAY                               501\n",
       "                                            ... \n",
       "VANDALIA AVENUE                               14\n",
       "NEW LANE AREA                                 11\n",
       "PALMETTO GARDENS                              10\n",
       "BETANCES III                                  10\n",
       "LA GUARDIA ADDITION                           10\n",
       "HARRISON AVENUE REHAB (GROUP A)                9\n",
       "O'DWYER GARDENS                                9\n",
       "LOWER EAST SIDE II                             8\n",
       "MIDDLETOWN PLAZA                               8\n",
       "WEST TREMONT AVENUE-SEDGWICK AVENUE AREA       8\n",
       "KINGSBOROUGH 77                                8\n",
       "JENNINGS STREET                                6\n",
       "MANHATTANVILLE REHAB (GROUP 2)                 5\n",
       "FRANKLIN AVENUE III CONVENTIONAL               5\n",
       "FRANKLIN AVENUE I MHOP                         5\n",
       "WASHINGTON HEIGHTS REHAB PHASE III             5\n",
       "FIRST HOUSES                                   4\n",
       "BROWN                                          3\n",
       "WEST TREMONT REHAB (GROUP 1)                   3\n",
       "DE HOSTOS APARTMENTS                           3\n",
       "CAREY GARDENS                                  3\n",
       "WSUR (SITE B) 74 WEST 92ND STREET              3\n",
       "PROSPECT PLAZA                                 3\n",
       "BETANCES VI                                    3\n",
       "GLENMORE PLAZA                                 3\n",
       "HABER                                          2\n",
       "TAFT REHABS (REHAB PROGRAM)                    2\n",
       "KINGSBOROUGH 73                                1\n",
       "FRANKLIN AVENUE II MHOP                        1\n",
       "METRO NORTH REHAB                              1\n",
       "Name: HADEVELOPT, Length: 268, dtype: int64"
      ]
     },
     "execution_count": 9,
     "metadata": {},
     "output_type": "execute_result"
    }
   ],
   "source": [
    "print(ds.shape)\n",
    "print(ds[~ds['HADEVELOPT'].notnull()].shape)\n",
    "print(ds[~ds['HADEVELOPT'].isnull()].shape)\n",
    "ds['HADEVELOPT'].value_counts()"
   ]
  },
  {
   "cell_type": "code",
   "execution_count": 10,
   "metadata": {},
   "outputs": [
    {
     "name": "stdout",
     "output_type": "stream",
     "text": [
      "(1048575, 27)\n",
      "(4689, 27)\n",
      "(1043886, 27)\n"
     ]
    },
    {
     "data": {
      "text/plain": [
       "STREET                          320261\n",
       "RESIDENCE - APT. HOUSE          229490\n",
       "RESIDENCE-HOUSE                  97446\n",
       "RESIDENCE - PUBLIC HOUSING       79577\n",
       "OTHER                            28726\n",
       "COMMERCIAL BUILDING              27212\n",
       "CHAIN STORE                      24761\n",
       "TRANSIT - NYC SUBWAY             23860\n",
       "DEPARTMENT STORE                 23682\n",
       "GROCERY/BODEGA                   15377\n",
       "RESTAURANT/DINER                 13412\n",
       "PARK/PLAYGROUND                  13221\n",
       "BAR/NIGHT CLUB                   12484\n",
       "PUBLIC SCHOOL                    10822\n",
       "CLOTHING/BOUTIQUE                 9725\n",
       "DRUG STORE                        9338\n",
       "PUBLIC BUILDING                   6447\n",
       "FOOD SUPERMARKET                  6437\n",
       "FAST FOOD                         5961\n",
       "PARKING LOT/GARAGE (PUBLIC)       5205\n",
       "PARKING LOT/GARAGE (PRIVATE)      5178\n",
       "HOSPITAL                          5149\n",
       "HOTEL/MOTEL                       4847\n",
       "STORE UNCLASSIFIED                4319\n",
       "SMALL MERCHANT                    4317\n",
       "BANK                              4215\n",
       "HIGHWAY/PARKWAY                   3850\n",
       "AIRPORT TERMINAL                  3723\n",
       "GYM/FITNESS FACILITY              3611\n",
       "BEAUTY & NAIL SALON               2995\n",
       "                                 ...  \n",
       "CANDY STORE                       1315\n",
       "OPEN AREAS (OPEN LOTS)            1290\n",
       "BRIDGE                            1168\n",
       "TAXI (LIVERY LICENSED)            1140\n",
       "PRIVATE/PAROCHIAL SCHOOL          1096\n",
       "FACTORY/WAREHOUSE                 1058\n",
       "LIQUOR STORE                       985\n",
       "ATM                                923\n",
       "TRANSIT FACILITY (OTHER)           919\n",
       "STORAGE FACILITY                   908\n",
       "BUS STOP                           834\n",
       "SHOE                               790\n",
       "BUS TERMINAL                       761\n",
       "JEWELRY                            747\n",
       "SOCIAL CLUB/POLICY                 659\n",
       "ABANDONED BUILDING                 588\n",
       "TUNNEL                             552\n",
       "BUS (OTHER)                        540\n",
       "MARINA/PIER                        442\n",
       "FERRY/FERRY TERMINAL               392\n",
       "SYNAGOGUE                          328\n",
       "BOOK/CARD                          319\n",
       "VIDEO STORE                        224\n",
       "TAXI/LIVERY (UNLICENSED)           171\n",
       "MOSQUE                             150\n",
       "PHOTO/COPY                         148\n",
       "OTHER HOUSE OF WORSHIP             139\n",
       "CEMETERY                            77\n",
       "LOAN COMPANY                        59\n",
       "TRAMWAY                             24\n",
       "Name: PREM_TYP_DESC, Length: 70, dtype: int64"
      ]
     },
     "execution_count": 10,
     "metadata": {},
     "output_type": "execute_result"
    }
   ],
   "source": [
    "print(ds.shape)\n",
    "print(ds[~ds['PREM_TYP_DESC'].notnull()].shape)\n",
    "print(ds[~ds['PREM_TYP_DESC'].isnull()].shape)\n",
    "ds['PREM_TYP_DESC'].value_counts()"
   ]
  },
  {
   "cell_type": "code",
   "execution_count": 12,
   "metadata": {},
   "outputs": [
    {
     "name": "stdout",
     "output_type": "stream",
     "text": [
      "(1048575, 27)\n",
      "(217752, 27)\n",
      "(830823, 27)\n"
     ]
    },
    {
     "data": {
      "text/plain": [
       "INSIDE         549718\n",
       "FRONT OF       230557\n",
       "OPPOSITE OF     27135\n",
       "REAR OF         22968\n",
       "OUTSIDE           445\n",
       "Name: LOC_OF_OCCUR_DESC, dtype: int64"
      ]
     },
     "execution_count": 12,
     "metadata": {},
     "output_type": "execute_result"
    }
   ],
   "source": [
    "print(ds.shape)\n",
    "print(ds[~ds['LOC_OF_OCCUR_DESC'].notnull()].shape)\n",
    "print(ds[~ds['LOC_OF_OCCUR_DESC'].isnull()].shape)\n",
    "ds['LOC_OF_OCCUR_DESC'].value_counts()"
   ]
  },
  {
   "cell_type": "code",
   "execution_count": 44,
   "metadata": {},
   "outputs": [
    {
     "name": "stdout",
     "output_type": "stream",
     "text": [
      "(1048575, 24)\n",
      "(1, 24)\n",
      "(1048574, 24)\n"
     ]
    },
    {
     "data": {
      "text/plain": [
       "array(['44', '103', '28', '105', '13', '71', '7', '46', '48', '19', '41',\n",
       "       '14', '67', '17', '61', '102', '110', '108', '75', '73', '60', '68',\n",
       "       '79', '121', '23', '42', '115', '52', '122', '1', '72', '109', '24',\n",
       "       '81', '90', '112', '43', '84', '47', '77', '101', '83', '113',\n",
       "       '120', '70', '69', '66', '114', '76', '63', '45', '106', '10', '78',\n",
       "       '6', '5', '94', '40', '34', '32', '50', '25', '100', '18', '20',\n",
       "       '111', '107', '30', '49', '88', '26', '123', '9', '104', '33', '62',\n",
       "       '22', nan], dtype=object)"
      ]
     },
     "execution_count": 44,
     "metadata": {},
     "output_type": "execute_result"
    }
   ],
   "source": [
    "print(ds.shape)\n",
    "print(ds[~ds['ADDR_PCT_CD'].notnull()].shape)\n",
    "print(ds[~ds['ADDR_PCT_CD'].isnull()].shape)\n",
    "ds['ADDR_PCT_CD'].unique()"
   ]
  },
  {
   "cell_type": "code",
   "execution_count": 13,
   "metadata": {},
   "outputs": [
    {
     "name": "stdout",
     "output_type": "stream",
     "text": [
      "(1048575, 27)\n",
      "(0, 27)\n",
      "(1048575, 27)\n"
     ]
    },
    {
     "data": {
      "text/plain": [
       "BROOKLYN         315648\n",
       "MANHATTAN        244749\n",
       "BRONX            227477\n",
       "QUEENS           211958\n",
       "STATEN ISLAND     48743\n",
       "Name: BORO_NM, dtype: int64"
      ]
     },
     "execution_count": 13,
     "metadata": {},
     "output_type": "execute_result"
    }
   ],
   "source": [
    "print(ds.shape)\n",
    "print(ds[~ds['BORO_NM'].notnull()].shape)\n",
    "print(ds[~ds['BORO_NM'].isnull()].shape)\n",
    "ds['BORO_NM'].value_counts()"
   ]
  },
  {
   "cell_type": "code",
   "execution_count": 21,
   "metadata": {},
   "outputs": [
    {
     "name": "stdout",
     "output_type": "stream",
     "text": [
      "(1048575, 27)\n",
      "(0, 27)\n",
      "(1048575, 27)\n"
     ]
    },
    {
     "data": {
      "text/plain": [
       "N.Y. POLICE DEPT                930995\n",
       "N.Y. HOUSING POLICE              79474\n",
       "N.Y. TRANSIT POLICE              24120\n",
       "PORT AUTHORITY                    5626\n",
       "DEPT OF CORRECTIONS               3086\n",
       "OTHER                             2840\n",
       "N.Y. STATE POLICE                  678\n",
       "TRI-BORO BRDG TUNNL                592\n",
       "HEALTH & HOSP CORP                 473\n",
       "POLICE DEPT NYC                    158\n",
       "METRO NORTH                        130\n",
       "STATN IS RAPID TRANS                76\n",
       "NYC PARKS                           71\n",
       "NEW YORK CITY SHERIFF OFFICE        59\n",
       "N.Y. STATE PARKS                    56\n",
       "LONG ISLAND RAILRD                  51\n",
       "U.S. PARK POLICE                    40\n",
       "AMTRACK                             27\n",
       "NYS DEPT TAX AND FINANCE            22\n",
       "CONRAIL                              1\n",
       "Name: JURIS_DESC, dtype: int64"
      ]
     },
     "execution_count": 21,
     "metadata": {},
     "output_type": "execute_result"
    }
   ],
   "source": [
    "print(ds.shape)\n",
    "print(ds[~ds['JURIS_DESC'].notnull()].shape)\n",
    "print(ds[~ds['JURIS_DESC'].isnull()].shape)\n",
    "#ds['JURIS_DESC'].unique()\n",
    "ds['JURIS_DESC'].value_counts()"
   ]
  },
  {
   "cell_type": "code",
   "execution_count": 23,
   "metadata": {},
   "outputs": [
    {
     "name": "stdout",
     "output_type": "stream",
     "text": [
      "(1048575, 24)\n",
      "(0, 24)\n",
      "(1048575, 24)\n"
     ]
    },
    {
     "data": {
      "text/plain": [
       "MISDEMEANOR    585468\n",
       "FELONY         327807\n",
       "VIOLATION      135300\n",
       "Name: LAW_CAT_CD, dtype: int64"
      ]
     },
     "execution_count": 23,
     "metadata": {},
     "output_type": "execute_result"
    }
   ],
   "source": [
    "print(ds.shape)\n",
    "print(ds[~ds['LAW_CAT_CD'].notnull()].shape)\n",
    "print(ds[~ds['LAW_CAT_CD'].isnull()].shape)\n",
    "ds['LAW_CAT_CD'].unique()\n",
    "ds['LAW_CAT_CD'].value_counts()"
   ]
  },
  {
   "cell_type": "code",
   "execution_count": 22,
   "metadata": {},
   "outputs": [
    {
     "name": "stdout",
     "output_type": "stream",
     "text": [
      "(1048575, 24)\n",
      "(1, 24)\n",
      "(1048574, 24)\n"
     ]
    },
    {
     "data": {
      "text/plain": [
       "COMPLETED    1029816\n",
       "ATTEMPTED      18758\n",
       "Name: CRM_ATPT_CPTD_CD, dtype: int64"
      ]
     },
     "execution_count": 22,
     "metadata": {},
     "output_type": "execute_result"
    }
   ],
   "source": [
    "print(ds.shape)\n",
    "print(ds[~ds['CRM_ATPT_CPTD_CD'].notnull()].shape)\n",
    "print(ds[~ds['CRM_ATPT_CPTD_CD'].isnull()].shape)\n",
    "ds['CRM_ATPT_CPTD_CD'].unique()\n",
    "ds['CRM_ATPT_CPTD_CD'].value_counts()"
   ]
  },
  {
   "cell_type": "code",
   "execution_count": 21,
   "metadata": {},
   "outputs": [
    {
     "name": "stdout",
     "output_type": "stream",
     "text": [
      "(1048575, 24)\n",
      "(733, 24)\n",
      "(1047842, 24)\n"
     ]
    },
    {
     "data": {
      "text/plain": [
       "ASSAULT 3                                                       93214\n",
       "HARASSMENT,SUBD 3,4,5                                           89064\n",
       "LARCENY,PETIT FROM STORE-SHOPL                                  57638\n",
       "LARCENY,PETIT FROM BUILDING,UN                                  47733\n",
       "AGGRAVATED HARASSMENT 2                                         44246\n",
       "HARASSMENT,SUBD 1,CIVILIAN                                      44116\n",
       "ASSAULT 2,1,UNCLASSIFIED                                        34791\n",
       "MISCHIEF, CRIMINAL 4, OF MOTOR                                  31401\n",
       "LARCENY,PETIT FROM AUTO                                         29061\n",
       "CRIMINAL MISCHIEF,UNCLASSIFIED 4                                28411\n",
       "MARIJUANA, POSSESSION 4 & 5                                     26429\n",
       "CRIMINAL MISCHIEF 4TH, GRAFFIT                                  22215\n",
       "CONTROLLED SUBSTANCE, POSSESSI                                  19341\n",
       "CRIMINAL CONTEMPT 1                                             16048\n",
       "LARCENY,PETIT FROM OPEN AREAS,                                  15845\n",
       "MENACING,UNCLASSIFIED                                           15146\n",
       "INTOXICATED DRIVING,ALCOHOL                                     15050\n",
       "LARCENY,GRAND OF AUTO                                           13665\n",
       "BURGLARY,RESIDENCE,DAY                                          13375\n",
       "WEAPONS, POSSESSION, ETC                                        12758\n",
       "ROBBERY,PERSONAL ELECTRONIC DEVICE                              11794\n",
       "LARCENY,GRAND FROM VEHICLE/MOTORCYCLE                           10476\n",
       "FRAUD,UNCLASSIFIED-FELONY                                       10086\n",
       "LEAVING SCENE-ACCIDENT-PERSONA                                   9844\n",
       "ROBBERY,OPEN AREA UNCLASSIFIED                                   9421\n",
       "FORGERY,ETC.,UNCLASSIFIED-FELO                                   9095\n",
       "TRESPASS 2, CRIMINAL                                             8845\n",
       "LARCENY,GRAND FROM BUILDING (NON-RESIDENCE) UNATTENDED           8393\n",
       "LARCENY,PETIT OF BICYCLE                                         8341\n",
       "WEAPONS POSSESSION 3                                             8003\n",
       "                                                                ...  \n",
       "LOITERING,UNCLASSIFIED                                              2\n",
       "AIRPOLLUTION                                                        2\n",
       "ABORTION 1                                                          2\n",
       "LABOR TRAFFICKING                                                   2\n",
       "USE OF A CHILD IN A SEXUAL PER                                      2\n",
       "CONFINING ANIMAL IN VEHICLE/SHELTER                                 2\n",
       "PROSTITUTION 2, COMPULSORY                                          2\n",
       "FACILITATION 3,2,1, CRIMINAL                                        2\n",
       "SALE SCHOOL GROUNDS                                                 2\n",
       "EDUCATION LAW, TRUANCY                                              2\n",
       "ROBBERY,HIJACKING                                                   1\n",
       "FORTUNE TELLING                                                     1\n",
       "POSS METH MANUFACT MATERIAL                                         1\n",
       "BIGAMY                                                              1\n",
       "ENTERPRISE CORRUPTION                                               1\n",
       "PROSTITUTION,PERMITTING                                             1\n",
       "LARCENY,PETIT OF TRUCK                                              1\n",
       "CHILD,LICENSED PREMISES                                             1\n",
       "LOITERING 1ST DEGREE FOR DRUG                                       1\n",
       "ATTEND/SPECTATOR ANIMAL FIGHTING                                    1\n",
       "LABOR LAW,EMPLOYING CHILDREN                                        1\n",
       "ENVIRONMENTAL CONTROL BOARD                                         1\n",
       "LARCENY,GRAND BY CREDIT CARD COMPROMISE-UNAUTHORIZE PURCHASE        1\n",
       "NUISANCE, CRIMINAL                                                  1\n",
       "GENERAL BUSINESS LAW / UNCLASSIFIED                                 1\n",
       "DISSEMINATING A FALSE SEX OFFEND                                    1\n",
       "NEGLECT/POISON ANIMAL                                               1\n",
       "AIR POLLUTION-MOTOR VEH (ADM C                                      1\n",
       "POSTING ADVERTISEMENTS                                              1\n",
       "WEAPONS,MFR,TRANSPORT,ETC.                                          1\n",
       "Name: PD_DESC, Length: 373, dtype: int64"
      ]
     },
     "execution_count": 21,
     "metadata": {},
     "output_type": "execute_result"
    }
   ],
   "source": [
    "print(ds.shape)\n",
    "print(ds[~ds['PD_DESC'].notnull()].shape)\n",
    "print(ds[~ds['PD_DESC'].isnull()].shape)\n",
    "ds['PD_DESC'].value_counts()"
   ]
  },
  {
   "cell_type": "code",
   "execution_count": 53,
   "metadata": {},
   "outputs": [
    {
     "name": "stdout",
     "output_type": "stream",
     "text": [
      "(1048575, 24)\n",
      "(733, 24)\n",
      "(1047842, 24)\n"
     ]
    },
    {
     "data": {
      "text/plain": [
       "array(['729', nan, '503', '101', '109', '511', '792', '338', '343', '406',\n",
       "       '415', '386', '411', '748', '259', '155', '105', '793', '567',\n",
       "       '905', '638', '106', '399', '681', '254', '213', '205', '637',\n",
       "       '198', '916', '566', '521', '661', '412', '639', '749', '333',\n",
       "       '707', '114', '339', '759', '441', '357', '404', '177', '388',\n",
       "       '377', '782', '267', '705', '380', '417', '113', '384', '223',\n",
       "       '438', '439', '409', '500', '397', '410', '115', '321', '117',\n",
       "       '451', '569', '221', '157', '313', '421', '649', '466', '405',\n",
       "       '478', '403', '443', '211', '433', '367', '258', '401', '175',\n",
       "       '544', '424', '269', '231', '418', '389', '382', '264', '277',\n",
       "       '204', '416', '398', '390', '243', '723', '494', '408', '725',\n",
       "       '462', '507', '263', '508', '457', '360', '779', '233', '349',\n",
       "       '224', '402', '718', '256', '234', '407', '739', '244', '425',\n",
       "       '303', '461', '422', '347', '432', '153', '426', '922', '625',\n",
       "       '760', '203', '808', '168', '878', '195', '307', '361', '419',\n",
       "       '394', '181', '344', '695', '647', '750', '490', '848', '430',\n",
       "       '387', '665', '201', '744', '524', '414', '271', '847', '199',\n",
       "       '515', '809', '428', '266', '442', '268', '420', '640', '305',\n",
       "       '596', '170', '501', '512', '510', '363', '392', '437', '209',\n",
       "       '159', '531', '505', '301', '475', '493', '708', '489', '391',\n",
       "       '350', '197', '214', '241', '514', '652', '371', '696', '335',\n",
       "       '772', '644', '191', '802', '379', '568', '520', '864', '703',\n",
       "       '395', '907', '727', '104', '887', '112', '862', '385', '645',\n",
       "       '761', '633', '812', '879', '479', '817', '509', '698', '375',\n",
       "       '431', '183', '858', '331', '688', '818', '164', '329', '746',\n",
       "       '434', '185', '724', '396', '918', '365', '570', '762', '627',\n",
       "       '273', '766', '764', '327', '585', '366', '110', '586', '455',\n",
       "       '180', '519', '663', '464', '187', '730', '174', '297', '341',\n",
       "       '179', '193', '874', '843', '643', '477', '844', '502', '711',\n",
       "       '701', '814', '423', '351', '815', '841', '529', '393', '548',\n",
       "       '731', '450', '166', '121', '719', '435', '265', '281', '799',\n",
       "       '781', '584', '849', '563', '742', '706', '662', '683', '565',\n",
       "       '770', '789', '293', '846', '111', '186', '122', '797', '840',\n",
       "       '687', '595', '476', '107', '872', '888', '890', '323', '674',\n",
       "       '899', '557', '659', '648', '176', '754', '775', '610', '672',\n",
       "       '299', '491', '594', '445', '261', '537', '788', '576', '285',\n",
       "       '591', '143', '605', '532', '553', '715', '861', '248', '587',\n",
       "       '641', '184', '619', '291', '780', '820', '533', '498', '669',\n",
       "       '827', '889', '342', '904', '811', '468', '845', '373', '345',\n",
       "       '694', '622', '289', '975', '826', '588', '664', '969', '880',\n",
       "       '821', '721', '829', '756', '853', '355', '125', '646', '784',\n",
       "       '860', '523', '691', '786', '892', '275', '574', '381', '697',\n",
       "       '604', '513', '796', '733', '436', '685'], dtype=object)"
      ]
     },
     "execution_count": 53,
     "metadata": {},
     "output_type": "execute_result"
    }
   ],
   "source": [
    "print(ds.shape)\n",
    "print(ds[~ds['PD_CD'].notnull()].shape)\n",
    "print(ds[~ds['PD_CD'].isnull()].shape)\n",
    "ds['PD_CD'].unique()"
   ]
  },
  {
   "cell_type": "code",
   "execution_count": 25,
   "metadata": {},
   "outputs": [
    {
     "name": "stdout",
     "output_type": "stream",
     "text": [
      "(1048575, 24)\n",
      "(2880, 24)\n",
      "(1045695, 24)\n"
     ]
    },
    {
     "data": {
      "text/plain": [
       "PETIT LARCENY                           180246\n",
       "HARRASSMENT 2                           133179\n",
       "ASSAULT 3 & RELATED OFFENSES            114430\n",
       "CRIMINAL MISCHIEF & RELATED OF          102771\n",
       "GRAND LARCENY                            96232\n",
       "DANGEROUS DRUGS                          56868\n",
       "OFF. AGNST PUB ORD SENSBLTY &            44772\n",
       "FELONY ASSAULT                           43921\n",
       "ROBBERY                                  36801\n",
       "BURGLARY                                 34994\n",
       "MISCELLANEOUS PENAL LAW                  29221\n",
       "DANGEROUS WEAPONS                        22953\n",
       "OFFENSES AGAINST PUBLIC ADMINI           21353\n",
       "GRAND LARCENY OF MOTOR VEHICLE           16223\n",
       "INTOXICATED & IMPAIRED DRIVING           15169\n",
       "VEHICLE AND TRAFFIC LAWS                 13050\n",
       "SEX CRIMES                               11780\n",
       "FORGERY                                  10591\n",
       "THEFT-FRAUD                              10472\n",
       "CRIMINAL TRESPASS                        10292\n",
       "FRAUDS                                    7861\n",
       "POSSESSION OF STOLEN PROPERTY             4928\n",
       "UNAUTHORIZED USE OF A VEHICLE             3555\n",
       "OTHER OFFENSES RELATED TO THEF            3081\n",
       "RAPE                                      2978\n",
       "OFFENSES INVOLVING FRAUD                  2966\n",
       "OFFENSES AGAINST THE PERSON               2804\n",
       "ARSON                                     2472\n",
       "ADMINISTRATIVE CODE                       2335\n",
       "OTHER STATE LAWS (NON PENAL LA            1035\n",
       "                                         ...  \n",
       "PROSTITUTION & RELATED OFFENSES            240\n",
       "OFFENSES AGAINST PUBLIC SAFETY             184\n",
       "ALCOHOLIC BEVERAGE CONTROL LAW             161\n",
       "PETIT LARCENY OF MOTOR VEHICLE             156\n",
       "DISORDERLY CONDUCT                         123\n",
       "AGRICULTURE & MRKTS LAW-UNCLASSIFIED        83\n",
       "JOSTLING                                    80\n",
       "CHILD ABANDONMENT/NON SUPPORT               61\n",
       "ENDAN WELFARE INCOMP                        52\n",
       "OTHER STATE LAWS                            31\n",
       "ESCAPE 3                                    25\n",
       "NEW YORK CITY HEALTH CODE                   25\n",
       "LOITERING/GAMBLING (CARDS, DIC              19\n",
       "INTOXICATED/IMPAIRED DRIVING                18\n",
       "DISRUPTION OF A RELIGIOUS SERV              13\n",
       "ANTICIPATORY OFFENSES                        9\n",
       "HOMICIDE-NEGLIGENT,UNCLASSIFIE               8\n",
       "UNLAWFUL POSS. WEAP. ON SCHOOL               8\n",
       "HOMICIDE-NEGLIGENT-VEHICLE                   7\n",
       "NYS LAWS-UNCLASSIFIED VIOLATION              6\n",
       "OTHER TRAFFIC INFRACTION                     3\n",
       "UNDER THE INFLUENCE OF DRUGS                 2\n",
       "KIDNAPPING AND RELATED OFFENSES              2\n",
       "ABORTION                                     2\n",
       "ADMINISTRATIVE CODES                         2\n",
       "KIDNAPPING                                   2\n",
       "LOITERING                                    2\n",
       "OTHER STATE LAWS (NON PENAL LAW)             1\n",
       "FORTUNE TELLING                              1\n",
       "LOITERING FOR DRUG PURPOSES                  1\n",
       "Name: OFNS_DESC, Length: 68, dtype: int64"
      ]
     },
     "execution_count": 25,
     "metadata": {},
     "output_type": "execute_result"
    }
   ],
   "source": [
    "print(ds.shape)\n",
    "print(ds[~ds['OFNS_DESC'].notnull()].shape)\n",
    "print(ds[~ds['OFNS_DESC'].isnull()].shape)\n",
    "ds['OFNS_DESC'].value_counts()"
   ]
  },
  {
   "cell_type": "code",
   "execution_count": 133,
   "metadata": {},
   "outputs": [
    {
     "data": {
      "image/png": "[encoded data removed]",
      "text/plain": [
       "<matplotlib.figure.Figure at 0x1982c5d7f98>"
      ]
     },
     "metadata": {},
     "output_type": "display_data"
    }
   ],
   "source": [
    "ds['OFNS_DESC'][ds['year'] == 2013]\\\n",
    "    .value_counts()[0:15]\\\n",
    "    .plot(kind='bar', figsize=[14, 7],width=0.6,alpha=0.6,color='b',grid=False,title='OFNS_DESC')\n",
    "plt.show()"
   ]
  },
  {
   "cell_type": "code",
   "execution_count": 131,
   "metadata": {},
   "outputs": [
    {
     "data": {
      "image/png": "[encoded data removed]",
      "text/plain": [
       "<matplotlib.figure.Figure at 0x19830a4e048>"
      ]
     },
     "metadata": {},
     "output_type": "display_data"
    }
   ],
   "source": [
    "ds['OFNS_DESC'][ds['year'] == 2014]\\\n",
    "    .value_counts()[0:15]\\\n",
    "    .plot(kind='bar', figsize=[14, 7],width=0.6,alpha=0.6,color='b',grid=False,title='OFNS_DESC')\n",
    "plt.show()"
   ]
  },
  {
   "cell_type": "code",
   "execution_count": 134,
   "metadata": {},
   "outputs": [
    {
     "data": {
      "image/png": "[encoded data removed]",
      "text/plain": [
       "<matplotlib.figure.Figure at 0x1983328e2e8>"
      ]
     },
     "metadata": {},
     "output_type": "display_data"
    }
   ],
   "source": [
    "ds['OFNS_DESC'][ds['year'] == 2015]\\\n",
    "    .value_counts()[0:15]\\\n",
    "    .plot(kind='bar', figsize=[14, 7],width=0.6,alpha=0.6,color='b',grid=False,title='OFNS_DESC')\n",
    "plt.show()"
   ]
  },
  {
   "cell_type": "code",
   "execution_count": 165,
   "metadata": {},
   "outputs": [
    {
     "data": {
      "image/png": "[encoded data removed]",
      "text/plain": [
       "<matplotlib.figure.Figure at 0x19830e27c88>"
      ]
     },
     "metadata": {},
     "output_type": "display_data"
    }
   ],
   "source": [
    "ax = ds[ds['OFNS_DESC'] == 'PETIT LARCENY'][ds['year'] >= 2014]\\\n",
    "    .groupby([\"year\", \"BORO_NM\"]).size()\\\n",
    "    .unstack()\\\n",
    "    .plot(kind='bar', figsize=[14, 7],width=0.6,alpha=0.6,grid=False,title=title).legend(bbox_to_anchor=(1.2, 0.9))"
   ]
  },
  {
   "cell_type": "code",
   "execution_count": 19,
   "metadata": {},
   "outputs": [
    {
     "data": {
      "image/png": "[encoded data removed]",
      "text/plain": [
       "<matplotlib.figure.Figure at 0x16381d14080>"
      ]
     },
     "metadata": {},
     "output_type": "display_data"
    }
   ],
   "source": [
    "ax = ds[ds['OFNS_DESC'] == 'PETIT LARCENY'][ds['year'] >= 2014]\\\n",
    "    .groupby([\"year\", \"CRM_ATPT_CPTD_CD\"]).size()\\\n",
    "    .unstack()\\\n",
    "    .plot(kind='bar', figsize=[14, 7],width=0.6,alpha=0.6,grid=False,title=title).legend(bbox_to_anchor=(1.2, 0.9))"
   ]
  },
  {
   "cell_type": "code",
   "execution_count": 23,
   "metadata": {},
   "outputs": [
    {
     "data": {
      "image/png": "[encoded data removed]",
      "text/plain": [
       "<matplotlib.figure.Figure at 0x16381c4c550>"
      ]
     },
     "metadata": {},
     "output_type": "display_data"
    }
   ],
   "source": [
    "ds['LOC_OF_OCCUR_DESC'][ds['year'] == 2015]\\\n",
    "    .value_counts()[0:15]\\\n",
    "    .plot(kind='bar', figsize=[14, 7],width=0.6,alpha=0.6,color='b',grid=False,title='OFNS_DESC')\n",
    "plt.show()"
   ]
  },
  {
   "cell_type": "code",
   "execution_count": 25,
   "metadata": {},
   "outputs": [
    {
     "data": {
      "image/png": "[encoded data removed]",
      "text/plain": [
       "<matplotlib.figure.Figure at 0x163825f85c0>"
      ]
     },
     "metadata": {},
     "output_type": "display_data"
    }
   ],
   "source": [
    "ax = ds[ds['OFNS_DESC'] == 'PETIT LARCENY'][ds['year'] >= 2014]\\\n",
    "    .groupby([\"year\", \"LOC_OF_OCCUR_DESC\"]).size()\\\n",
    "    .unstack()\\\n",
    "    .plot(kind='bar', figsize=[14, 7],width=0.6,alpha=0.6,grid=False,title=title).legend(bbox_to_anchor=(1.2, 0.9))"
   ]
  },
  {
   "cell_type": "code",
   "execution_count": 29,
   "metadata": {},
   "outputs": [
    {
     "data": {
      "image/png": "[encoded data removed]",
      "text/plain": [
       "<matplotlib.figure.Figure at 0x16382739cf8>"
      ]
     },
     "metadata": {},
     "output_type": "display_data"
    }
   ],
   "source": [
    "ds['PREM_TYP_DESC'][ds['year'] == 2015][ds['OFNS_DESC'] == 'PETIT LARCENY']\\\n",
    "    .value_counts()[0:15]\\\n",
    "    .plot(kind='bar', figsize=[14, 7],width=0.6,alpha=0.6,color='y',grid=False,title='OFNS_DESC')\n",
    "plt.show()"
   ]
  },
  {
   "cell_type": "code",
   "execution_count": 31,
   "metadata": {},
   "outputs": [
    {
     "data": {
      "image/png": "[encoded data removed]",
      "text/plain": [
       "<matplotlib.figure.Figure at 0x163826bc9e8>"
      ]
     },
     "metadata": {},
     "output_type": "display_data"
    }
   ],
   "source": [
    "ds['HADEVELOPT'][ds['year'] == 2015][ds['OFNS_DESC'] == 'PETIT LARCENY']\\\n",
    "    .value_counts()[0:15]\\\n",
    "    .plot(kind='bar', figsize=[14, 7],width=0.6,alpha=0.6,color='y',grid=False,title='OFNS_DESC')\n",
    "plt.show()"
   ]
  },
  {
   "cell_type": "code",
   "execution_count": 34,
   "metadata": {},
   "outputs": [
    {
     "data": {
      "image/png": "[encoded data removed]",
      "text/plain": [
       "<matplotlib.figure.Figure at 0x16382703588>"
      ]
     },
     "metadata": {},
     "output_type": "display_data"
    }
   ],
   "source": [
    "ax = ds[ds['OFNS_DESC'] == 'PETIT LARCENY'][ds['year'] >= 2014]\\\n",
    "    .groupby([\"year\", \"CRM_ATPT_CPTD_CD\"]).size()\\\n",
    "    .unstack()\\\n",
    "    .plot(kind='bar', figsize=[14, 7],width=0.6,alpha=0.6,grid=False,title=title).legend(bbox_to_anchor=(1.2, 0.9))"
   ]
  },
  {
   "cell_type": "code",
   "execution_count": 42,
   "metadata": {},
   "outputs": [
    {
     "name": "stdout",
     "output_type": "stream",
     "text": [
      "86162\n",
      "490363\n",
      "468576\n"
     ]
    }
   ],
   "source": [
    "print(ds[ds['year'] == 2013].shape[0]) # incomplete data\n",
    "print(ds[ds['year'] == 2014].shape[0])\n",
    "print(ds[ds['year'] == 2015].shape[0])"
   ]
  }
 ],
 "metadata": {
  "kernelspec": {
   "display_name": "Python 3",
   "language": "python",
   "name": "python3"
  },
  "language_info": {
   "codemirror_mode": {
    "name": "ipython",
    "version": 3
   },
   "file_extension": ".py",
   "mimetype": "text/x-python",
   "name": "python",
   "nbconvert_exporter": "python",
   "pygments_lexer": "ipython3",
   "version": "3.6.1"
  }
 },
 "nbformat": 4,
 "nbformat_minor": 2
}
